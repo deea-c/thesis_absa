{
  "nbformat": 4,
  "nbformat_minor": 0,
  "metadata": {
    "colab": {
      "provenance": [],
      "gpuType": "T4",
      "mount_file_id": "1K-ZsL726ZZT0vULWMEDrhUoI2KtvKZsn",
      "authorship_tag": "ABX9TyNhX9PQhAIQdZaIK02a62Wr",
      "include_colab_link": true
    },
    "kernelspec": {
      "name": "python3",
      "display_name": "Python 3"
    },
    "language_info": {
      "name": "python"
    },
    "accelerator": "GPU",
    "gpuClass": "standard",
    "widgets": {
      "application/vnd.jupyter.widget-state+json": {
        "fce7b85b0a624d449e2b217629dfcf18": {
          "model_module": "@jupyter-widgets/controls",
          "model_name": "HBoxModel",
          "model_module_version": "1.5.0",
          "state": {
            "_dom_classes": [],
            "_model_module": "@jupyter-widgets/controls",
            "_model_module_version": "1.5.0",
            "_model_name": "HBoxModel",
            "_view_count": null,
            "_view_module": "@jupyter-widgets/controls",
            "_view_module_version": "1.5.0",
            "_view_name": "HBoxView",
            "box_style": "",
            "children": [
              "IPY_MODEL_85fe341e9a474082a1f9da9b6b86924d",
              "IPY_MODEL_d6eda22068a84f81b64af54d10a9d8a5",
              "IPY_MODEL_68f3c31a0d1640bd8fd903cbf6c4d61d"
            ],
            "layout": "IPY_MODEL_38f2baef7fb84f05980ec8c6b448f290"
          }
        },
        "85fe341e9a474082a1f9da9b6b86924d": {
          "model_module": "@jupyter-widgets/controls",
          "model_name": "HTMLModel",
          "model_module_version": "1.5.0",
          "state": {
            "_dom_classes": [],
            "_model_module": "@jupyter-widgets/controls",
            "_model_module_version": "1.5.0",
            "_model_name": "HTMLModel",
            "_view_count": null,
            "_view_module": "@jupyter-widgets/controls",
            "_view_module_version": "1.5.0",
            "_view_name": "HTMLView",
            "description": "",
            "description_tooltip": null,
            "layout": "IPY_MODEL_220efa943659494eb31dc0d17606c02c",
            "placeholder": "​",
            "style": "IPY_MODEL_71cd91f669ec41d7ba2cd71cf6103b8f",
            "value": "Downloading builder script: 100%"
          }
        },
        "d6eda22068a84f81b64af54d10a9d8a5": {
          "model_module": "@jupyter-widgets/controls",
          "model_name": "FloatProgressModel",
          "model_module_version": "1.5.0",
          "state": {
            "_dom_classes": [],
            "_model_module": "@jupyter-widgets/controls",
            "_model_module_version": "1.5.0",
            "_model_name": "FloatProgressModel",
            "_view_count": null,
            "_view_module": "@jupyter-widgets/controls",
            "_view_module_version": "1.5.0",
            "_view_name": "ProgressView",
            "bar_style": "success",
            "description": "",
            "description_tooltip": null,
            "layout": "IPY_MODEL_a1f3172b0ed545e687e0eab742b350c2",
            "max": 6338,
            "min": 0,
            "orientation": "horizontal",
            "style": "IPY_MODEL_c73db57aca49449a88fb4bbec25df319",
            "value": 6338
          }
        },
        "68f3c31a0d1640bd8fd903cbf6c4d61d": {
          "model_module": "@jupyter-widgets/controls",
          "model_name": "HTMLModel",
          "model_module_version": "1.5.0",
          "state": {
            "_dom_classes": [],
            "_model_module": "@jupyter-widgets/controls",
            "_model_module_version": "1.5.0",
            "_model_name": "HTMLModel",
            "_view_count": null,
            "_view_module": "@jupyter-widgets/controls",
            "_view_module_version": "1.5.0",
            "_view_name": "HTMLView",
            "description": "",
            "description_tooltip": null,
            "layout": "IPY_MODEL_b8a554d68654424e9ff7796c1d1ffa85",
            "placeholder": "​",
            "style": "IPY_MODEL_21ce79eb0afe4b749b7bd340c4363dd1",
            "value": " 6.34k/6.34k [00:00&lt;00:00, 335kB/s]"
          }
        },
        "38f2baef7fb84f05980ec8c6b448f290": {
          "model_module": "@jupyter-widgets/base",
          "model_name": "LayoutModel",
          "model_module_version": "1.2.0",
          "state": {
            "_model_module": "@jupyter-widgets/base",
            "_model_module_version": "1.2.0",
            "_model_name": "LayoutModel",
            "_view_count": null,
            "_view_module": "@jupyter-widgets/base",
            "_view_module_version": "1.2.0",
            "_view_name": "LayoutView",
            "align_content": null,
            "align_items": null,
            "align_self": null,
            "border": null,
            "bottom": null,
            "display": null,
            "flex": null,
            "flex_flow": null,
            "grid_area": null,
            "grid_auto_columns": null,
            "grid_auto_flow": null,
            "grid_auto_rows": null,
            "grid_column": null,
            "grid_gap": null,
            "grid_row": null,
            "grid_template_areas": null,
            "grid_template_columns": null,
            "grid_template_rows": null,
            "height": null,
            "justify_content": null,
            "justify_items": null,
            "left": null,
            "margin": null,
            "max_height": null,
            "max_width": null,
            "min_height": null,
            "min_width": null,
            "object_fit": null,
            "object_position": null,
            "order": null,
            "overflow": null,
            "overflow_x": null,
            "overflow_y": null,
            "padding": null,
            "right": null,
            "top": null,
            "visibility": null,
            "width": null
          }
        },
        "220efa943659494eb31dc0d17606c02c": {
          "model_module": "@jupyter-widgets/base",
          "model_name": "LayoutModel",
          "model_module_version": "1.2.0",
          "state": {
            "_model_module": "@jupyter-widgets/base",
            "_model_module_version": "1.2.0",
            "_model_name": "LayoutModel",
            "_view_count": null,
            "_view_module": "@jupyter-widgets/base",
            "_view_module_version": "1.2.0",
            "_view_name": "LayoutView",
            "align_content": null,
            "align_items": null,
            "align_self": null,
            "border": null,
            "bottom": null,
            "display": null,
            "flex": null,
            "flex_flow": null,
            "grid_area": null,
            "grid_auto_columns": null,
            "grid_auto_flow": null,
            "grid_auto_rows": null,
            "grid_column": null,
            "grid_gap": null,
            "grid_row": null,
            "grid_template_areas": null,
            "grid_template_columns": null,
            "grid_template_rows": null,
            "height": null,
            "justify_content": null,
            "justify_items": null,
            "left": null,
            "margin": null,
            "max_height": null,
            "max_width": null,
            "min_height": null,
            "min_width": null,
            "object_fit": null,
            "object_position": null,
            "order": null,
            "overflow": null,
            "overflow_x": null,
            "overflow_y": null,
            "padding": null,
            "right": null,
            "top": null,
            "visibility": null,
            "width": null
          }
        },
        "71cd91f669ec41d7ba2cd71cf6103b8f": {
          "model_module": "@jupyter-widgets/controls",
          "model_name": "DescriptionStyleModel",
          "model_module_version": "1.5.0",
          "state": {
            "_model_module": "@jupyter-widgets/controls",
            "_model_module_version": "1.5.0",
            "_model_name": "DescriptionStyleModel",
            "_view_count": null,
            "_view_module": "@jupyter-widgets/base",
            "_view_module_version": "1.2.0",
            "_view_name": "StyleView",
            "description_width": ""
          }
        },
        "a1f3172b0ed545e687e0eab742b350c2": {
          "model_module": "@jupyter-widgets/base",
          "model_name": "LayoutModel",
          "model_module_version": "1.2.0",
          "state": {
            "_model_module": "@jupyter-widgets/base",
            "_model_module_version": "1.2.0",
            "_model_name": "LayoutModel",
            "_view_count": null,
            "_view_module": "@jupyter-widgets/base",
            "_view_module_version": "1.2.0",
            "_view_name": "LayoutView",
            "align_content": null,
            "align_items": null,
            "align_self": null,
            "border": null,
            "bottom": null,
            "display": null,
            "flex": null,
            "flex_flow": null,
            "grid_area": null,
            "grid_auto_columns": null,
            "grid_auto_flow": null,
            "grid_auto_rows": null,
            "grid_column": null,
            "grid_gap": null,
            "grid_row": null,
            "grid_template_areas": null,
            "grid_template_columns": null,
            "grid_template_rows": null,
            "height": null,
            "justify_content": null,
            "justify_items": null,
            "left": null,
            "margin": null,
            "max_height": null,
            "max_width": null,
            "min_height": null,
            "min_width": null,
            "object_fit": null,
            "object_position": null,
            "order": null,
            "overflow": null,
            "overflow_x": null,
            "overflow_y": null,
            "padding": null,
            "right": null,
            "top": null,
            "visibility": null,
            "width": null
          }
        },
        "c73db57aca49449a88fb4bbec25df319": {
          "model_module": "@jupyter-widgets/controls",
          "model_name": "ProgressStyleModel",
          "model_module_version": "1.5.0",
          "state": {
            "_model_module": "@jupyter-widgets/controls",
            "_model_module_version": "1.5.0",
            "_model_name": "ProgressStyleModel",
            "_view_count": null,
            "_view_module": "@jupyter-widgets/base",
            "_view_module_version": "1.2.0",
            "_view_name": "StyleView",
            "bar_color": null,
            "description_width": ""
          }
        },
        "b8a554d68654424e9ff7796c1d1ffa85": {
          "model_module": "@jupyter-widgets/base",
          "model_name": "LayoutModel",
          "model_module_version": "1.2.0",
          "state": {
            "_model_module": "@jupyter-widgets/base",
            "_model_module_version": "1.2.0",
            "_model_name": "LayoutModel",
            "_view_count": null,
            "_view_module": "@jupyter-widgets/base",
            "_view_module_version": "1.2.0",
            "_view_name": "LayoutView",
            "align_content": null,
            "align_items": null,
            "align_self": null,
            "border": null,
            "bottom": null,
            "display": null,
            "flex": null,
            "flex_flow": null,
            "grid_area": null,
            "grid_auto_columns": null,
            "grid_auto_flow": null,
            "grid_auto_rows": null,
            "grid_column": null,
            "grid_gap": null,
            "grid_row": null,
            "grid_template_areas": null,
            "grid_template_columns": null,
            "grid_template_rows": null,
            "height": null,
            "justify_content": null,
            "justify_items": null,
            "left": null,
            "margin": null,
            "max_height": null,
            "max_width": null,
            "min_height": null,
            "min_width": null,
            "object_fit": null,
            "object_position": null,
            "order": null,
            "overflow": null,
            "overflow_x": null,
            "overflow_y": null,
            "padding": null,
            "right": null,
            "top": null,
            "visibility": null,
            "width": null
          }
        },
        "21ce79eb0afe4b749b7bd340c4363dd1": {
          "model_module": "@jupyter-widgets/controls",
          "model_name": "DescriptionStyleModel",
          "model_module_version": "1.5.0",
          "state": {
            "_model_module": "@jupyter-widgets/controls",
            "_model_module_version": "1.5.0",
            "_model_name": "DescriptionStyleModel",
            "_view_count": null,
            "_view_module": "@jupyter-widgets/base",
            "_view_module_version": "1.2.0",
            "_view_name": "StyleView",
            "description_width": ""
          }
        }
      }
    }
  },
  "cells": [
    {
      "cell_type": "markdown",
      "metadata": {
        "id": "view-in-github",
        "colab_type": "text"
      },
      "source": [
        "<a href=\"https://colab.research.google.com/github/deea-c/thesis_absa/blob/main/Stratified_k_fold.ipynb\" target=\"_parent\"><img src=\"https://colab.research.google.com/assets/colab-badge.svg\" alt=\"Open In Colab\"/></a>"
      ]
    },
    {
      "cell_type": "code",
      "source": [
        "from google.colab import drive\n",
        "drive.mount('/content/drive')"
      ],
      "metadata": {
        "colab": {
          "base_uri": "https://localhost:8080/"
        },
        "id": "kDVQbhPeEfJK",
        "outputId": "6bd44edc-5190-4d16-d200-5d1a5e353b53"
      },
      "execution_count": null,
      "outputs": [
        {
          "output_type": "stream",
          "name": "stdout",
          "text": [
            "Drive already mounted at /content/drive; to attempt to forcibly remount, call drive.mount(\"/content/drive\", force_remount=True).\n"
          ]
        }
      ]
    },
    {
      "cell_type": "code",
      "source": [
        "%cd /content/drive/MyDrive/Colab Notebooks/code\n",
        "!pwd "
      ],
      "metadata": {
        "colab": {
          "base_uri": "https://localhost:8080/"
        },
        "id": "MsMXyllRYKiO",
        "outputId": "ac6ed611-7597-4b46-8164-4f7cc5abdd0b"
      },
      "execution_count": null,
      "outputs": [
        {
          "output_type": "stream",
          "name": "stdout",
          "text": [
            "/content/drive/MyDrive/Colab Notebooks/code\n",
            "/content/drive/MyDrive/Colab Notebooks/code\n"
          ]
        }
      ]
    },
    {
      "cell_type": "code",
      "source": [
        "# #To install\n",
        "!pip install evaluate\n",
        "!pip install seqeval (need to install this) \n",
        "!pip install transformers\n",
        "!pip install seqeval\n",
        "!pip install --upgrade accelerate"
      ],
      "metadata": {
        "id": "Sl--D1MkYCmF",
        "colab": {
          "base_uri": "https://localhost:8080/"
        },
        "outputId": "df32584c-0551-4b77-d755-d222542fc735"
      },
      "execution_count": null,
      "outputs": [
        {
          "output_type": "stream",
          "name": "stdout",
          "text": [
            "Looking in indexes: https://pypi.org/simple, https://us-python.pkg.dev/colab-wheels/public/simple/\n",
            "Collecting evaluate\n",
            "  Downloading evaluate-0.4.0-py3-none-any.whl (81 kB)\n",
            "\u001b[2K     \u001b[90m━━━━━━━━━━━━━━━━━━━━━━━━━━━━━━━━━━━━━━━━\u001b[0m \u001b[32m81.4/81.4 kB\u001b[0m \u001b[31m3.8 MB/s\u001b[0m eta \u001b[36m0:00:00\u001b[0m\n",
            "\u001b[?25hCollecting datasets>=2.0.0 (from evaluate)\n",
            "  Downloading datasets-2.12.0-py3-none-any.whl (474 kB)\n",
            "\u001b[2K     \u001b[90m━━━━━━━━━━━━━━━━━━━━━━━━━━━━━━━━━━━━━━\u001b[0m \u001b[32m474.6/474.6 kB\u001b[0m \u001b[31m17.5 MB/s\u001b[0m eta \u001b[36m0:00:00\u001b[0m\n",
            "\u001b[?25hRequirement already satisfied: numpy>=1.17 in /usr/local/lib/python3.10/dist-packages (from evaluate) (1.22.4)\n",
            "Collecting dill (from evaluate)\n",
            "  Downloading dill-0.3.6-py3-none-any.whl (110 kB)\n",
            "\u001b[2K     \u001b[90m━━━━━━━━━━━━━━━━━━━━━━━━━━━━━━━━━━━━━━\u001b[0m \u001b[32m110.5/110.5 kB\u001b[0m \u001b[31m16.4 MB/s\u001b[0m eta \u001b[36m0:00:00\u001b[0m\n",
            "\u001b[?25hRequirement already satisfied: pandas in /usr/local/lib/python3.10/dist-packages (from evaluate) (1.5.3)\n",
            "Requirement already satisfied: requests>=2.19.0 in /usr/local/lib/python3.10/dist-packages (from evaluate) (2.27.1)\n",
            "Requirement already satisfied: tqdm>=4.62.1 in /usr/local/lib/python3.10/dist-packages (from evaluate) (4.65.0)\n",
            "Collecting xxhash (from evaluate)\n",
            "  Downloading xxhash-3.2.0-cp310-cp310-manylinux_2_17_x86_64.manylinux2014_x86_64.whl (212 kB)\n",
            "\u001b[2K     \u001b[90m━━━━━━━━━━━━━━━━━━━━━━━━━━━━━━━━━━━━━━\u001b[0m \u001b[32m212.5/212.5 kB\u001b[0m \u001b[31m29.7 MB/s\u001b[0m eta \u001b[36m0:00:00\u001b[0m\n",
            "\u001b[?25hCollecting multiprocess (from evaluate)\n",
            "  Downloading multiprocess-0.70.14-py310-none-any.whl (134 kB)\n",
            "\u001b[2K     \u001b[90m━━━━━━━━━━━━━━━━━━━━━━━━━━━━━━━━━━━━━━\u001b[0m \u001b[32m134.3/134.3 kB\u001b[0m \u001b[31m12.0 MB/s\u001b[0m eta \u001b[36m0:00:00\u001b[0m\n",
            "\u001b[?25hRequirement already satisfied: fsspec[http]>=2021.05.0 in /usr/local/lib/python3.10/dist-packages (from evaluate) (2023.4.0)\n",
            "Collecting huggingface-hub>=0.7.0 (from evaluate)\n",
            "  Downloading huggingface_hub-0.14.1-py3-none-any.whl (224 kB)\n",
            "\u001b[2K     \u001b[90m━━━━━━━━━━━━━━━━━━━━━━━━━━━━━━━━━━━━━━\u001b[0m \u001b[32m224.5/224.5 kB\u001b[0m \u001b[31m28.8 MB/s\u001b[0m eta \u001b[36m0:00:00\u001b[0m\n",
            "\u001b[?25hRequirement already satisfied: packaging in /usr/local/lib/python3.10/dist-packages (from evaluate) (23.1)\n",
            "Collecting responses<0.19 (from evaluate)\n",
            "  Downloading responses-0.18.0-py3-none-any.whl (38 kB)\n",
            "Requirement already satisfied: pyarrow>=8.0.0 in /usr/local/lib/python3.10/dist-packages (from datasets>=2.0.0->evaluate) (9.0.0)\n",
            "Collecting aiohttp (from datasets>=2.0.0->evaluate)\n",
            "  Downloading aiohttp-3.8.4-cp310-cp310-manylinux_2_17_x86_64.manylinux2014_x86_64.whl (1.0 MB)\n",
            "\u001b[2K     \u001b[90m━━━━━━━━━━━━━━━━━━━━━━━━━━━━━━━━━━━━━━━━\u001b[0m \u001b[32m1.0/1.0 MB\u001b[0m \u001b[31m52.2 MB/s\u001b[0m eta \u001b[36m0:00:00\u001b[0m\n",
            "\u001b[?25hRequirement already satisfied: pyyaml>=5.1 in /usr/local/lib/python3.10/dist-packages (from datasets>=2.0.0->evaluate) (6.0)\n",
            "Requirement already satisfied: filelock in /usr/local/lib/python3.10/dist-packages (from huggingface-hub>=0.7.0->evaluate) (3.12.0)\n",
            "Requirement already satisfied: typing-extensions>=3.7.4.3 in /usr/local/lib/python3.10/dist-packages (from huggingface-hub>=0.7.0->evaluate) (4.5.0)\n",
            "Requirement already satisfied: urllib3<1.27,>=1.21.1 in /usr/local/lib/python3.10/dist-packages (from requests>=2.19.0->evaluate) (1.26.15)\n",
            "Requirement already satisfied: certifi>=2017.4.17 in /usr/local/lib/python3.10/dist-packages (from requests>=2.19.0->evaluate) (2022.12.7)\n",
            "Requirement already satisfied: charset-normalizer~=2.0.0 in /usr/local/lib/python3.10/dist-packages (from requests>=2.19.0->evaluate) (2.0.12)\n",
            "Requirement already satisfied: idna<4,>=2.5 in /usr/local/lib/python3.10/dist-packages (from requests>=2.19.0->evaluate) (3.4)\n",
            "Requirement already satisfied: python-dateutil>=2.8.1 in /usr/local/lib/python3.10/dist-packages (from pandas->evaluate) (2.8.2)\n",
            "Requirement already satisfied: pytz>=2020.1 in /usr/local/lib/python3.10/dist-packages (from pandas->evaluate) (2022.7.1)\n",
            "Requirement already satisfied: attrs>=17.3.0 in /usr/local/lib/python3.10/dist-packages (from aiohttp->datasets>=2.0.0->evaluate) (23.1.0)\n",
            "Collecting multidict<7.0,>=4.5 (from aiohttp->datasets>=2.0.0->evaluate)\n",
            "  Downloading multidict-6.0.4-cp310-cp310-manylinux_2_17_x86_64.manylinux2014_x86_64.whl (114 kB)\n",
            "\u001b[2K     \u001b[90m━━━━━━━━━━━━━━━━━━━━━━━━━━━━━━━━━━━━━━\u001b[0m \u001b[32m114.5/114.5 kB\u001b[0m \u001b[31m15.7 MB/s\u001b[0m eta \u001b[36m0:00:00\u001b[0m\n",
            "\u001b[?25hCollecting async-timeout<5.0,>=4.0.0a3 (from aiohttp->datasets>=2.0.0->evaluate)\n",
            "  Downloading async_timeout-4.0.2-py3-none-any.whl (5.8 kB)\n",
            "Collecting yarl<2.0,>=1.0 (from aiohttp->datasets>=2.0.0->evaluate)\n",
            "  Downloading yarl-1.9.2-cp310-cp310-manylinux_2_17_x86_64.manylinux2014_x86_64.whl (268 kB)\n",
            "\u001b[2K     \u001b[90m━━━━━━━━━━━━━━━━━━━━━━━━━━━━━━━━━━━━━━\u001b[0m \u001b[32m268.8/268.8 kB\u001b[0m \u001b[31m25.7 MB/s\u001b[0m eta \u001b[36m0:00:00\u001b[0m\n",
            "\u001b[?25hCollecting frozenlist>=1.1.1 (from aiohttp->datasets>=2.0.0->evaluate)\n",
            "  Downloading frozenlist-1.3.3-cp310-cp310-manylinux_2_5_x86_64.manylinux1_x86_64.manylinux_2_17_x86_64.manylinux2014_x86_64.whl (149 kB)\n",
            "\u001b[2K     \u001b[90m━━━━━━━━━━━━━━━━━━━━━━━━━━━━━━━━━━━━━━\u001b[0m \u001b[32m149.6/149.6 kB\u001b[0m \u001b[31m19.6 MB/s\u001b[0m eta \u001b[36m0:00:00\u001b[0m\n",
            "\u001b[?25hCollecting aiosignal>=1.1.2 (from aiohttp->datasets>=2.0.0->evaluate)\n",
            "  Downloading aiosignal-1.3.1-py3-none-any.whl (7.6 kB)\n",
            "Requirement already satisfied: six>=1.5 in /usr/local/lib/python3.10/dist-packages (from python-dateutil>=2.8.1->pandas->evaluate) (1.16.0)\n",
            "Installing collected packages: xxhash, multidict, frozenlist, dill, async-timeout, yarl, responses, multiprocess, huggingface-hub, aiosignal, aiohttp, datasets, evaluate\n",
            "Successfully installed aiohttp-3.8.4 aiosignal-1.3.1 async-timeout-4.0.2 datasets-2.12.0 dill-0.3.6 evaluate-0.4.0 frozenlist-1.3.3 huggingface-hub-0.14.1 multidict-6.0.4 multiprocess-0.70.14 responses-0.18.0 xxhash-3.2.0 yarl-1.9.2\n",
            "/bin/bash: -c: line 0: syntax error near unexpected token `('\n",
            "/bin/bash: -c: line 0: `pip install seqeval (need to install this)'\n",
            "Looking in indexes: https://pypi.org/simple, https://us-python.pkg.dev/colab-wheels/public/simple/\n",
            "Collecting transformers\n",
            "  Downloading transformers-4.29.2-py3-none-any.whl (7.1 MB)\n",
            "\u001b[2K     \u001b[90m━━━━━━━━━━━━━━━━━━━━━━━━━━━━━━━━━━━━━━━━\u001b[0m \u001b[32m7.1/7.1 MB\u001b[0m \u001b[31m59.5 MB/s\u001b[0m eta \u001b[36m0:00:00\u001b[0m\n",
            "\u001b[?25hRequirement already satisfied: filelock in /usr/local/lib/python3.10/dist-packages (from transformers) (3.12.0)\n",
            "Requirement already satisfied: huggingface-hub<1.0,>=0.14.1 in /usr/local/lib/python3.10/dist-packages (from transformers) (0.14.1)\n",
            "Requirement already satisfied: numpy>=1.17 in /usr/local/lib/python3.10/dist-packages (from transformers) (1.22.4)\n",
            "Requirement already satisfied: packaging>=20.0 in /usr/local/lib/python3.10/dist-packages (from transformers) (23.1)\n",
            "Requirement already satisfied: pyyaml>=5.1 in /usr/local/lib/python3.10/dist-packages (from transformers) (6.0)\n",
            "Requirement already satisfied: regex!=2019.12.17 in /usr/local/lib/python3.10/dist-packages (from transformers) (2022.10.31)\n",
            "Requirement already satisfied: requests in /usr/local/lib/python3.10/dist-packages (from transformers) (2.27.1)\n",
            "Collecting tokenizers!=0.11.3,<0.14,>=0.11.1 (from transformers)\n",
            "  Downloading tokenizers-0.13.3-cp310-cp310-manylinux_2_17_x86_64.manylinux2014_x86_64.whl (7.8 MB)\n",
            "\u001b[2K     \u001b[90m━━━━━━━━━━━━━━━━━━━━━━━━━━━━━━━━━━━━━━━━\u001b[0m \u001b[32m7.8/7.8 MB\u001b[0m \u001b[31m117.7 MB/s\u001b[0m eta \u001b[36m0:00:00\u001b[0m\n",
            "\u001b[?25hRequirement already satisfied: tqdm>=4.27 in /usr/local/lib/python3.10/dist-packages (from transformers) (4.65.0)\n",
            "Requirement already satisfied: fsspec in /usr/local/lib/python3.10/dist-packages (from huggingface-hub<1.0,>=0.14.1->transformers) (2023.4.0)\n",
            "Requirement already satisfied: typing-extensions>=3.7.4.3 in /usr/local/lib/python3.10/dist-packages (from huggingface-hub<1.0,>=0.14.1->transformers) (4.5.0)\n",
            "Requirement already satisfied: urllib3<1.27,>=1.21.1 in /usr/local/lib/python3.10/dist-packages (from requests->transformers) (1.26.15)\n",
            "Requirement already satisfied: certifi>=2017.4.17 in /usr/local/lib/python3.10/dist-packages (from requests->transformers) (2022.12.7)\n",
            "Requirement already satisfied: charset-normalizer~=2.0.0 in /usr/local/lib/python3.10/dist-packages (from requests->transformers) (2.0.12)\n",
            "Requirement already satisfied: idna<4,>=2.5 in /usr/local/lib/python3.10/dist-packages (from requests->transformers) (3.4)\n",
            "Installing collected packages: tokenizers, transformers\n",
            "Successfully installed tokenizers-0.13.3 transformers-4.29.2\n",
            "Looking in indexes: https://pypi.org/simple, https://us-python.pkg.dev/colab-wheels/public/simple/\n",
            "Collecting seqeval\n",
            "  Downloading seqeval-1.2.2.tar.gz (43 kB)\n",
            "\u001b[2K     \u001b[90m━━━━━━━━━━━━━━━━━━━━━━━━━━━━━━━━━━━━━━━━\u001b[0m \u001b[32m43.6/43.6 kB\u001b[0m \u001b[31m3.0 MB/s\u001b[0m eta \u001b[36m0:00:00\u001b[0m\n",
            "\u001b[?25h  Preparing metadata (setup.py) ... \u001b[?25l\u001b[?25hdone\n",
            "Requirement already satisfied: numpy>=1.14.0 in /usr/local/lib/python3.10/dist-packages (from seqeval) (1.22.4)\n",
            "Requirement already satisfied: scikit-learn>=0.21.3 in /usr/local/lib/python3.10/dist-packages (from seqeval) (1.2.2)\n",
            "Requirement already satisfied: scipy>=1.3.2 in /usr/local/lib/python3.10/dist-packages (from scikit-learn>=0.21.3->seqeval) (1.10.1)\n",
            "Requirement already satisfied: joblib>=1.1.1 in /usr/local/lib/python3.10/dist-packages (from scikit-learn>=0.21.3->seqeval) (1.2.0)\n",
            "Requirement already satisfied: threadpoolctl>=2.0.0 in /usr/local/lib/python3.10/dist-packages (from scikit-learn>=0.21.3->seqeval) (3.1.0)\n",
            "Building wheels for collected packages: seqeval\n",
            "  Building wheel for seqeval (setup.py) ... \u001b[?25l\u001b[?25hdone\n",
            "  Created wheel for seqeval: filename=seqeval-1.2.2-py3-none-any.whl size=16165 sha256=8c36e85c2162e1776f99ae6711ff267fff636b59ba5098eab912c4e9bff8dac0\n",
            "  Stored in directory: /root/.cache/pip/wheels/1a/67/4a/ad4082dd7dfc30f2abfe4d80a2ed5926a506eb8a972b4767fa\n",
            "Successfully built seqeval\n",
            "Installing collected packages: seqeval\n",
            "Successfully installed seqeval-1.2.2\n",
            "Looking in indexes: https://pypi.org/simple, https://us-python.pkg.dev/colab-wheels/public/simple/\n",
            "Collecting accelerate\n",
            "  Downloading accelerate-0.19.0-py3-none-any.whl (219 kB)\n",
            "\u001b[2K     \u001b[90m━━━━━━━━━━━━━━━━━━━━━━━━━━━━━━━━━━━━━━━\u001b[0m \u001b[32m219.1/219.1 kB\u001b[0m \u001b[31m6.8 MB/s\u001b[0m eta \u001b[36m0:00:00\u001b[0m\n",
            "\u001b[?25hRequirement already satisfied: numpy>=1.17 in /usr/local/lib/python3.10/dist-packages (from accelerate) (1.22.4)\n",
            "Requirement already satisfied: packaging>=20.0 in /usr/local/lib/python3.10/dist-packages (from accelerate) (23.1)\n",
            "Requirement already satisfied: psutil in /usr/local/lib/python3.10/dist-packages (from accelerate) (5.9.5)\n",
            "Requirement already satisfied: pyyaml in /usr/local/lib/python3.10/dist-packages (from accelerate) (6.0)\n",
            "Requirement already satisfied: torch>=1.6.0 in /usr/local/lib/python3.10/dist-packages (from accelerate) (2.0.0+cu118)\n",
            "Requirement already satisfied: filelock in /usr/local/lib/python3.10/dist-packages (from torch>=1.6.0->accelerate) (3.12.0)\n",
            "Requirement already satisfied: typing-extensions in /usr/local/lib/python3.10/dist-packages (from torch>=1.6.0->accelerate) (4.5.0)\n",
            "Requirement already satisfied: sympy in /usr/local/lib/python3.10/dist-packages (from torch>=1.6.0->accelerate) (1.11.1)\n",
            "Requirement already satisfied: networkx in /usr/local/lib/python3.10/dist-packages (from torch>=1.6.0->accelerate) (3.1)\n",
            "Requirement already satisfied: jinja2 in /usr/local/lib/python3.10/dist-packages (from torch>=1.6.0->accelerate) (3.1.2)\n",
            "Requirement already satisfied: triton==2.0.0 in /usr/local/lib/python3.10/dist-packages (from torch>=1.6.0->accelerate) (2.0.0)\n",
            "Requirement already satisfied: cmake in /usr/local/lib/python3.10/dist-packages (from triton==2.0.0->torch>=1.6.0->accelerate) (3.25.2)\n",
            "Requirement already satisfied: lit in /usr/local/lib/python3.10/dist-packages (from triton==2.0.0->torch>=1.6.0->accelerate) (16.0.3)\n",
            "Requirement already satisfied: MarkupSafe>=2.0 in /usr/local/lib/python3.10/dist-packages (from jinja2->torch>=1.6.0->accelerate) (2.1.2)\n",
            "Requirement already satisfied: mpmath>=0.19 in /usr/local/lib/python3.10/dist-packages (from sympy->torch>=1.6.0->accelerate) (1.3.0)\n",
            "Installing collected packages: accelerate\n",
            "Successfully installed accelerate-0.19.0\n"
          ]
        }
      ]
    },
    {
      "cell_type": "code",
      "source": [
        "#Packages\n",
        "from help_functions import get_annotations_as_dict, align_tokens_and_annotations_bio, compute_metrics\n",
        "from help_functions import metric\n",
        "from help_functions import TraingDataset, LabelSet, TrainingExample, label_list, label_set\n",
        "import pandas as pd \n",
        "import numpy as np\n",
        "from transformers import AutoTokenizer,EarlyStoppingCallback\n",
        "from transformers import AutoModelForTokenClassification, TrainingArguments, Trainer\n",
        "from transformers import DataCollatorForTokenClassification\n",
        "from sklearn.model_selection import train_test_split\n",
        "from seqeval.metrics import classification_report\n",
        "import evaluate\n",
        "import transformers\n",
        "from sklearn.model_selection import RepeatedKFold, RepeatedStratifiedKFold\n",
        "\n",
        "np.random.seed(11)\n"
      ],
      "metadata": {
        "id": "nTYUd8n0Yqq8",
        "colab": {
          "base_uri": "https://localhost:8080/",
          "height": 49,
          "referenced_widgets": [
            "fce7b85b0a624d449e2b217629dfcf18",
            "85fe341e9a474082a1f9da9b6b86924d",
            "d6eda22068a84f81b64af54d10a9d8a5",
            "68f3c31a0d1640bd8fd903cbf6c4d61d",
            "38f2baef7fb84f05980ec8c6b448f290",
            "220efa943659494eb31dc0d17606c02c",
            "71cd91f669ec41d7ba2cd71cf6103b8f",
            "a1f3172b0ed545e687e0eab742b350c2",
            "c73db57aca49449a88fb4bbec25df319",
            "b8a554d68654424e9ff7796c1d1ffa85",
            "21ce79eb0afe4b749b7bd340c4363dd1"
          ]
        },
        "outputId": "4e999fed-a0f7-4994-cbf1-2faa1b2155fc"
      },
      "execution_count": null,
      "outputs": [
        {
          "output_type": "display_data",
          "data": {
            "text/plain": [
              "Downloading builder script:   0%|          | 0.00/6.34k [00:00<?, ?B/s]"
            ],
            "application/vnd.jupyter.widget-view+json": {
              "version_major": 2,
              "version_minor": 0,
              "model_id": "fce7b85b0a624d449e2b217629dfcf18"
            }
          },
          "metadata": {}
        }
      ]
    },
    {
      "cell_type": "code",
      "source": [
        "# #### Load data\n",
        "language = \"EN_BackTranslation_aug_NegNeu\" #\"dutch\" #\"English + French\"\n",
        "dutch_test_df = get_annotations_as_dict( pd.read_pickle(\"../pickles/\" + \"test_\"+\"dutch\" + \".pkl\"))\n",
        "\n",
        "# df = get_annotations_as_dict( pd.read_pickle(\"../pickles/\" + \"train_\"+language +\".pkl\"))\n",
        "# test_df = get_annotations_as_dict( pd.read_pickle(\"../pickles/\" + \"test_\"+language + \".pkl\"))"
      ],
      "metadata": {
        "id": "SB880Yj0YfE-"
      },
      "execution_count": null,
      "outputs": []
    },
    {
      "cell_type": "code",
      "source": [
        "# # #Train & Test data read with multile datasets\n",
        "# df1 = pd.read_pickle(\"../pickles/\" + \"train_\"+\"English\" +\".pkl\")\n",
        "# df2 = pd.read_pickle(\"../pickles/\" + \"train_\"+\"French\" +\".pkl\")\n",
        "# df = pd.concat([df1, df2], axis=0)\n",
        "# df.reset_index(drop=True, inplace=True)\n",
        "# df = get_annotations_as_dict(df)\n",
        "\n",
        "# tdf1 = pd.read_pickle(\"../pickles/\" + \"test_\"+\"English\" +\".pkl\")\n",
        "# tdf2 = pd.read_pickle(\"../pickles/\" + \"test_\"+\"French\" +\".pkl\")\n",
        "# test_df =  pd.concat([tdf1, tdf2], axis=0)\n",
        "# test_df.reset_index(drop=True, inplace=True)\n",
        "# test_df = get_annotations_as_dict(test_df)"
      ],
      "metadata": {
        "id": "Pr-AUT3wbY7X"
      },
      "execution_count": null,
      "outputs": []
    },
    {
      "cell_type": "code",
      "source": [
        "#with Data augmentation\n",
        "df1 = pd.read_pickle(\"../pickles/\" + \"train_\"+\"English\" +\".pkl\")\n",
        "df2 = pd.read_pickle(\"../pickles/\" + \"BackTranslation_aug_NegNeu\" +\".pkl\")\n",
        "df = pd.concat([df1, df2], axis=0)\n",
        "df.reset_index(drop=True, inplace=True)\n",
        "df = get_annotations_as_dict(df)\n",
        "print(df1.shape, df2.shape, df.shape)\n",
        "test_df = get_annotations_as_dict( pd.read_pickle(\"../pickles/\" + \"test_\"+\"English\" + \".pkl\"))"
      ],
      "metadata": {
        "colab": {
          "base_uri": "https://localhost:8080/"
        },
        "id": "Ii5L9XEEbgUl",
        "outputId": "6097a969-c38b-4e7c-9a36-3a299e55edfb"
      },
      "execution_count": null,
      "outputs": [
        {
          "output_type": "stream",
          "name": "stdout",
          "text": [
            "(2507, 8) (483, 7) (2088, 4)\n"
          ]
        }
      ]
    },
    {
      "cell_type": "code",
      "source": [
        "models = [\n",
        "    {'name': 'bert-base-multilingual-cased', 'training_args': { 'num_train_epochs': 3}},\n",
        "    {'name': 'xlm-roberta-base', 'training_args': {'num_train_epochs': 5}}\n",
        "    # {'name': 'GroNLP/bert-base-dutch-cased', 'training_args': { 'num_train_epochs': 5}}\n",
        "    ]\n"
      ],
      "metadata": {
        "id": "_IkR7hCVfRMO"
      },
      "execution_count": null,
      "outputs": []
    },
    {
      "cell_type": "code",
      "source": [
        "\n",
        "# Perform k-fold cross-validation \n",
        "evaluation_metrics = ['eval_val_precision', 'eval_val_recall', 'eval_val_f1', 'eval_val_accuracy'] \n",
        "# Initialize an empty DataFrame to store the evaluation results\n",
        "results_df = pd.DataFrame(columns=['Model', 'Fold'] +\n",
        "                          [f'train_{metric}' for metric in evaluation_metrics] +\n",
        "                          [f'val_{metric}' for metric in evaluation_metrics] +\n",
        "                          [f'test_{metric}' for metric in evaluation_metrics] +\n",
        "                          [f'dutch_test_{metric}' for metric in evaluation_metrics])\n",
        "\n",
        "\n",
        "\n",
        "kfold =  RepeatedStratifiedKFold(n_splits=5, n_repeats=2, random_state=11)\n",
        "for fold, (train_index, val_index) in enumerate(kfold.split(df['Text'],df['polarities'])):\n",
        "    print(f\"Processing Fold: {fold + 1}\")\n",
        "    train_df = df.iloc[train_index]\n",
        "    val_df = df.iloc[val_index]\n",
        "    \n",
        "    \n",
        "    for model_info in models:\n",
        "        model_name = model_info['name']\n",
        "        num_train_epochs = model_info['training_args'][\"num_train_epochs\"]\n",
        "\n",
        "        tokenizer = AutoTokenizer.from_pretrained(model_name) # Load a pre-trained tokenizer\n",
        "        label_set = LabelSet(labels=[\"positive\", \"negative\", \"neutral\"])\n",
        "\n",
        "        train_ds = TraingDataset( data= train_df, tokenizer=tokenizer, label_set=label_set, tokens_per_batch=89)\n",
        "        val_ds = TraingDataset( data= val_df, tokenizer=tokenizer, label_set=label_set, tokens_per_batch=89)\n",
        "        test_ds = TraingDataset( data= test_df, tokenizer=tokenizer, label_set=label_set, tokens_per_batch=89)\n",
        "        dutch_test_ds = TraingDataset( data= dutch_test_df, tokenizer=tokenizer, label_set=label_set, tokens_per_batch=89)\n",
        "        \n",
        "        model = AutoModelForTokenClassification.from_pretrained(model_name, num_labels=len(label_set.labels_to_id), label2id = label_set.labels_to_id, id2label =label_set.ids_to_label )\n",
        "        data_collator = DataCollatorForTokenClassification(tokenizer)\n",
        "        model_n = model_name.split(\"/\")[-1]\n",
        "        batch_size = 16\n",
        "        args = TrainingArguments(\n",
        "            output_dir = f\"kfold/{model_n}-{language}\",\n",
        "            overwrite_output_dir = True,\n",
        "            logging_dir= f\"kfold/{model_n}-{language}/log\",\n",
        "            evaluation_strategy = \"epoch\",\n",
        "            logging_strategy= \"epoch\", \n",
        "            learning_rate=2e-5,\n",
        "            per_device_train_batch_size=batch_size,\n",
        "            per_device_eval_batch_size=batch_size,\n",
        "            weight_decay=0.01,\n",
        "            seed = 11,\n",
        "            push_to_hub= False,\n",
        "            num_train_epochs = num_train_epochs\n",
        "        )\n",
        "        print(f\"Training Model: {model_name}\")\n",
        "        \n",
        "        trainer = Trainer(\n",
        "            model,\n",
        "            args,\n",
        "            train_dataset= train_ds,\n",
        "            eval_dataset= val_ds,\n",
        "            data_collator=data_collator,\n",
        "            tokenizer=tokenizer,\n",
        "            compute_metrics=compute_metrics,\n",
        "            )\n",
        "        trainer.train()\n",
        "        results_train = trainer.evaluate(train_ds)\n",
        "        results_val = trainer.evaluate(val_ds)\n",
        "        results_test = trainer.evaluate(test_ds)\n",
        "        results_dutch_test = trainer.evaluate(dutch_test_ds)\n",
        "        # Store evaluation results\n",
        "\n",
        "        result_row = {'Model': model_name, 'Fold': fold + 1}\n",
        "        result_row.update({f'train_{metric}': results_train[metric] for metric in evaluation_metrics})\n",
        "        result_row.update({f'val_{metric}': results_val[metric] for metric in evaluation_metrics})\n",
        "        result_row.update({f'test_{metric}': results_test[metric] for metric in evaluation_metrics})\n",
        "        result_row.update({f'dutch_test_{metric}': results_dutch_test[metric] for metric in evaluation_metrics})\n",
        "        results_df = results_df.append(result_row, ignore_index=True)\n",
        "\n",
        "# Save the evaluation results to a CSV \n",
        "results_df.to_csv(f'{language}_evaluation_results.csv', index=False)\n",
        "\n",
        "\n"
      ],
      "metadata": {
        "colab": {
          "base_uri": "https://localhost:8080/",
          "height": 1000
        },
        "id": "qeBfXmsFZh0u",
        "outputId": "6174173c-e477-40c4-c559-ed8a289f0601"
      },
      "execution_count": null,
      "outputs": [
        {
          "output_type": "stream",
          "name": "stdout",
          "text": [
            "Processing Fold: 1\n"
          ]
        },
        {
          "output_type": "stream",
          "name": "stderr",
          "text": [
            "Some weights of the model checkpoint at bert-base-multilingual-cased were not used when initializing BertForTokenClassification: ['cls.predictions.decoder.weight', 'cls.predictions.transform.dense.weight', 'cls.predictions.transform.LayerNorm.weight', 'cls.seq_relationship.bias', 'cls.predictions.bias', 'cls.predictions.transform.LayerNorm.bias', 'cls.seq_relationship.weight', 'cls.predictions.transform.dense.bias']\n",
            "- This IS expected if you are initializing BertForTokenClassification from the checkpoint of a model trained on another task or with another architecture (e.g. initializing a BertForSequenceClassification model from a BertForPreTraining model).\n",
            "- This IS NOT expected if you are initializing BertForTokenClassification from the checkpoint of a model that you expect to be exactly identical (initializing a BertForSequenceClassification model from a BertForSequenceClassification model).\n",
            "Some weights of BertForTokenClassification were not initialized from the model checkpoint at bert-base-multilingual-cased and are newly initialized: ['classifier.bias', 'classifier.weight']\n",
            "You should probably TRAIN this model on a down-stream task to be able to use it for predictions and inference.\n"
          ]
        },
        {
          "output_type": "stream",
          "name": "stdout",
          "text": [
            "Training Model: bert-base-multilingual-cased\n"
          ]
        },
        {
          "output_type": "stream",
          "name": "stderr",
          "text": [
            "You're using a BertTokenizerFast tokenizer. Please note that with a fast tokenizer, using the `__call__` method is faster than using a method to encode the text followed by a call to the `pad` method to get a padded encoding.\n"
          ]
        },
        {
          "output_type": "display_data",
          "data": {
            "text/plain": [
              "<IPython.core.display.HTML object>"
            ],
            "text/html": [
              "\n",
              "    <div>\n",
              "      \n",
              "      <progress value='315' max='315' style='width:300px; height:20px; vertical-align: middle;'></progress>\n",
              "      [315/315 01:35, Epoch 3/3]\n",
              "    </div>\n",
              "    <table border=\"1\" class=\"dataframe\">\n",
              "  <thead>\n",
              " <tr style=\"text-align: left;\">\n",
              "      <th>Epoch</th>\n",
              "      <th>Training Loss</th>\n",
              "      <th>Validation Loss</th>\n",
              "      <th>Val Precision</th>\n",
              "      <th>Val Recall</th>\n",
              "      <th>Val F1</th>\n",
              "      <th>Val Accuracy</th>\n",
              "    </tr>\n",
              "  </thead>\n",
              "  <tbody>\n",
              "    <tr>\n",
              "      <td>1</td>\n",
              "      <td>0.428600</td>\n",
              "      <td>0.269311</td>\n",
              "      <td>0.243636</td>\n",
              "      <td>0.151927</td>\n",
              "      <td>0.187151</td>\n",
              "      <td>0.909271</td>\n",
              "    </tr>\n",
              "    <tr>\n",
              "      <td>2</td>\n",
              "      <td>0.239400</td>\n",
              "      <td>0.215835</td>\n",
              "      <td>0.454545</td>\n",
              "      <td>0.487528</td>\n",
              "      <td>0.470460</td>\n",
              "      <td>0.926862</td>\n",
              "    </tr>\n",
              "    <tr>\n",
              "      <td>3</td>\n",
              "      <td>0.187100</td>\n",
              "      <td>0.205934</td>\n",
              "      <td>0.476091</td>\n",
              "      <td>0.519274</td>\n",
              "      <td>0.496746</td>\n",
              "      <td>0.931623</td>\n",
              "    </tr>\n",
              "  </tbody>\n",
              "</table><p>"
            ]
          },
          "metadata": {}
        },
        {
          "output_type": "display_data",
          "data": {
            "text/plain": [
              "<IPython.core.display.HTML object>"
            ],
            "text/html": [
              "\n",
              "    <div>\n",
              "      \n",
              "      <progress value='198' max='105' style='width:300px; height:20px; vertical-align: middle;'></progress>\n",
              "      [105/105 00:16]\n",
              "    </div>\n",
              "    "
            ]
          },
          "metadata": {}
        },
        {
          "output_type": "stream",
          "name": "stderr",
          "text": [
            "Some weights of the model checkpoint at xlm-roberta-base were not used when initializing XLMRobertaForTokenClassification: ['lm_head.layer_norm.weight', 'lm_head.dense.bias', 'lm_head.layer_norm.bias', 'lm_head.decoder.weight', 'lm_head.bias', 'lm_head.dense.weight']\n",
            "- This IS expected if you are initializing XLMRobertaForTokenClassification from the checkpoint of a model trained on another task or with another architecture (e.g. initializing a BertForSequenceClassification model from a BertForPreTraining model).\n",
            "- This IS NOT expected if you are initializing XLMRobertaForTokenClassification from the checkpoint of a model that you expect to be exactly identical (initializing a BertForSequenceClassification model from a BertForSequenceClassification model).\n",
            "Some weights of XLMRobertaForTokenClassification were not initialized from the model checkpoint at xlm-roberta-base and are newly initialized: ['classifier.bias', 'classifier.weight']\n",
            "You should probably TRAIN this model on a down-stream task to be able to use it for predictions and inference.\n"
          ]
        },
        {
          "output_type": "stream",
          "name": "stdout",
          "text": [
            "Training Model: xlm-roberta-base\n"
          ]
        },
        {
          "output_type": "stream",
          "name": "stderr",
          "text": [
            "You're using a XLMRobertaTokenizerFast tokenizer. Please note that with a fast tokenizer, using the `__call__` method is faster than using a method to encode the text followed by a call to the `pad` method to get a padded encoding.\n"
          ]
        },
        {
          "output_type": "display_data",
          "data": {
            "text/plain": [
              "<IPython.core.display.HTML object>"
            ],
            "text/html": [
              "\n",
              "    <div>\n",
              "      \n",
              "      <progress value='525' max='525' style='width:300px; height:20px; vertical-align: middle;'></progress>\n",
              "      [525/525 03:17, Epoch 5/5]\n",
              "    </div>\n",
              "    <table border=\"1\" class=\"dataframe\">\n",
              "  <thead>\n",
              " <tr style=\"text-align: left;\">\n",
              "      <th>Epoch</th>\n",
              "      <th>Training Loss</th>\n",
              "      <th>Validation Loss</th>\n",
              "      <th>Val Precision</th>\n",
              "      <th>Val Recall</th>\n",
              "      <th>Val F1</th>\n",
              "      <th>Val Accuracy</th>\n",
              "    </tr>\n",
              "  </thead>\n",
              "  <tbody>\n",
              "    <tr>\n",
              "      <td>1</td>\n",
              "      <td>0.600100</td>\n",
              "      <td>0.380626</td>\n",
              "      <td>0.051724</td>\n",
              "      <td>0.006803</td>\n",
              "      <td>0.012024</td>\n",
              "      <td>0.889011</td>\n",
              "    </tr>\n",
              "    <tr>\n",
              "      <td>2</td>\n",
              "      <td>0.345100</td>\n",
              "      <td>0.258608</td>\n",
              "      <td>0.313808</td>\n",
              "      <td>0.340136</td>\n",
              "      <td>0.326442</td>\n",
              "      <td>0.912942</td>\n",
              "    </tr>\n",
              "    <tr>\n",
              "      <td>3</td>\n",
              "      <td>0.246800</td>\n",
              "      <td>0.228453</td>\n",
              "      <td>0.403259</td>\n",
              "      <td>0.448980</td>\n",
              "      <td>0.424893</td>\n",
              "      <td>0.925732</td>\n",
              "    </tr>\n",
              "    <tr>\n",
              "      <td>4</td>\n",
              "      <td>0.215700</td>\n",
              "      <td>0.217747</td>\n",
              "      <td>0.425051</td>\n",
              "      <td>0.469388</td>\n",
              "      <td>0.446121</td>\n",
              "      <td>0.923257</td>\n",
              "    </tr>\n",
              "    <tr>\n",
              "      <td>5</td>\n",
              "      <td>0.193500</td>\n",
              "      <td>0.218722</td>\n",
              "      <td>0.439689</td>\n",
              "      <td>0.512472</td>\n",
              "      <td>0.473298</td>\n",
              "      <td>0.925320</td>\n",
              "    </tr>\n",
              "  </tbody>\n",
              "</table><p>"
            ]
          },
          "metadata": {}
        },
        {
          "output_type": "display_data",
          "data": {
            "text/plain": [
              "<IPython.core.display.HTML object>"
            ],
            "text/html": [
              "\n",
              "    <div>\n",
              "      \n",
              "      <progress value='198' max='105' style='width:300px; height:20px; vertical-align: middle;'></progress>\n",
              "      [105/105 00:17]\n",
              "    </div>\n",
              "    "
            ]
          },
          "metadata": {}
        },
        {
          "output_type": "stream",
          "name": "stdout",
          "text": [
            "Processing Fold: 2\n"
          ]
        },
        {
          "output_type": "stream",
          "name": "stderr",
          "text": [
            "Some weights of the model checkpoint at bert-base-multilingual-cased were not used when initializing BertForTokenClassification: ['cls.predictions.decoder.weight', 'cls.predictions.transform.dense.weight', 'cls.predictions.transform.LayerNorm.weight', 'cls.seq_relationship.bias', 'cls.predictions.bias', 'cls.predictions.transform.LayerNorm.bias', 'cls.seq_relationship.weight', 'cls.predictions.transform.dense.bias']\n",
            "- This IS expected if you are initializing BertForTokenClassification from the checkpoint of a model trained on another task or with another architecture (e.g. initializing a BertForSequenceClassification model from a BertForPreTraining model).\n",
            "- This IS NOT expected if you are initializing BertForTokenClassification from the checkpoint of a model that you expect to be exactly identical (initializing a BertForSequenceClassification model from a BertForSequenceClassification model).\n",
            "Some weights of BertForTokenClassification were not initialized from the model checkpoint at bert-base-multilingual-cased and are newly initialized: ['classifier.bias', 'classifier.weight']\n",
            "You should probably TRAIN this model on a down-stream task to be able to use it for predictions and inference.\n"
          ]
        },
        {
          "output_type": "stream",
          "name": "stdout",
          "text": [
            "Training Model: bert-base-multilingual-cased\n"
          ]
        },
        {
          "output_type": "stream",
          "name": "stderr",
          "text": [
            "You're using a BertTokenizerFast tokenizer. Please note that with a fast tokenizer, using the `__call__` method is faster than using a method to encode the text followed by a call to the `pad` method to get a padded encoding.\n"
          ]
        },
        {
          "output_type": "display_data",
          "data": {
            "text/plain": [
              "<IPython.core.display.HTML object>"
            ],
            "text/html": [
              "\n",
              "    <div>\n",
              "      \n",
              "      <progress value='315' max='315' style='width:300px; height:20px; vertical-align: middle;'></progress>\n",
              "      [315/315 01:34, Epoch 3/3]\n",
              "    </div>\n",
              "    <table border=\"1\" class=\"dataframe\">\n",
              "  <thead>\n",
              " <tr style=\"text-align: left;\">\n",
              "      <th>Epoch</th>\n",
              "      <th>Training Loss</th>\n",
              "      <th>Validation Loss</th>\n",
              "      <th>Val Precision</th>\n",
              "      <th>Val Recall</th>\n",
              "      <th>Val F1</th>\n",
              "      <th>Val Accuracy</th>\n",
              "    </tr>\n",
              "  </thead>\n",
              "  <tbody>\n",
              "    <tr>\n",
              "      <td>1</td>\n",
              "      <td>0.388900</td>\n",
              "      <td>0.313521</td>\n",
              "      <td>0.278169</td>\n",
              "      <td>0.176339</td>\n",
              "      <td>0.215847</td>\n",
              "      <td>0.900318</td>\n",
              "    </tr>\n",
              "    <tr>\n",
              "      <td>2</td>\n",
              "      <td>0.223000</td>\n",
              "      <td>0.240982</td>\n",
              "      <td>0.434685</td>\n",
              "      <td>0.430804</td>\n",
              "      <td>0.432735</td>\n",
              "      <td>0.923161</td>\n",
              "    </tr>\n",
              "    <tr>\n",
              "      <td>3</td>\n",
              "      <td>0.170100</td>\n",
              "      <td>0.234967</td>\n",
              "      <td>0.426339</td>\n",
              "      <td>0.426339</td>\n",
              "      <td>0.426339</td>\n",
              "      <td>0.927071</td>\n",
              "    </tr>\n",
              "  </tbody>\n",
              "</table><p>"
            ]
          },
          "metadata": {}
        },
        {
          "output_type": "display_data",
          "data": {
            "text/plain": [
              "<IPython.core.display.HTML object>"
            ],
            "text/html": [
              "\n",
              "    <div>\n",
              "      \n",
              "      <progress value='198' max='105' style='width:300px; height:20px; vertical-align: middle;'></progress>\n",
              "      [105/105 00:16]\n",
              "    </div>\n",
              "    "
            ]
          },
          "metadata": {}
        },
        {
          "output_type": "stream",
          "name": "stderr",
          "text": [
            "Some weights of the model checkpoint at xlm-roberta-base were not used when initializing XLMRobertaForTokenClassification: ['lm_head.layer_norm.weight', 'lm_head.dense.bias', 'lm_head.layer_norm.bias', 'lm_head.decoder.weight', 'lm_head.bias', 'lm_head.dense.weight']\n",
            "- This IS expected if you are initializing XLMRobertaForTokenClassification from the checkpoint of a model trained on another task or with another architecture (e.g. initializing a BertForSequenceClassification model from a BertForPreTraining model).\n",
            "- This IS NOT expected if you are initializing XLMRobertaForTokenClassification from the checkpoint of a model that you expect to be exactly identical (initializing a BertForSequenceClassification model from a BertForSequenceClassification model).\n",
            "Some weights of XLMRobertaForTokenClassification were not initialized from the model checkpoint at xlm-roberta-base and are newly initialized: ['classifier.bias', 'classifier.weight']\n",
            "You should probably TRAIN this model on a down-stream task to be able to use it for predictions and inference.\n"
          ]
        },
        {
          "output_type": "stream",
          "name": "stdout",
          "text": [
            "Training Model: xlm-roberta-base\n"
          ]
        },
        {
          "output_type": "stream",
          "name": "stderr",
          "text": [
            "You're using a XLMRobertaTokenizerFast tokenizer. Please note that with a fast tokenizer, using the `__call__` method is faster than using a method to encode the text followed by a call to the `pad` method to get a padded encoding.\n"
          ]
        },
        {
          "output_type": "display_data",
          "data": {
            "text/plain": [
              "<IPython.core.display.HTML object>"
            ],
            "text/html": [
              "\n",
              "    <div>\n",
              "      \n",
              "      <progress value='525' max='525' style='width:300px; height:20px; vertical-align: middle;'></progress>\n",
              "      [525/525 03:21, Epoch 5/5]\n",
              "    </div>\n",
              "    <table border=\"1\" class=\"dataframe\">\n",
              "  <thead>\n",
              " <tr style=\"text-align: left;\">\n",
              "      <th>Epoch</th>\n",
              "      <th>Training Loss</th>\n",
              "      <th>Validation Loss</th>\n",
              "      <th>Val Precision</th>\n",
              "      <th>Val Recall</th>\n",
              "      <th>Val F1</th>\n",
              "      <th>Val Accuracy</th>\n",
              "    </tr>\n",
              "  </thead>\n",
              "  <tbody>\n",
              "    <tr>\n",
              "      <td>1</td>\n",
              "      <td>0.524300</td>\n",
              "      <td>0.343587</td>\n",
              "      <td>0.244526</td>\n",
              "      <td>0.299107</td>\n",
              "      <td>0.269076</td>\n",
              "      <td>0.888085</td>\n",
              "    </tr>\n",
              "    <tr>\n",
              "      <td>2</td>\n",
              "      <td>0.273100</td>\n",
              "      <td>0.291255</td>\n",
              "      <td>0.296073</td>\n",
              "      <td>0.437500</td>\n",
              "      <td>0.353153</td>\n",
              "      <td>0.895572</td>\n",
              "    </tr>\n",
              "    <tr>\n",
              "      <td>3</td>\n",
              "      <td>0.220500</td>\n",
              "      <td>0.246253</td>\n",
              "      <td>0.373239</td>\n",
              "      <td>0.354911</td>\n",
              "      <td>0.363844</td>\n",
              "      <td>0.914478</td>\n",
              "    </tr>\n",
              "    <tr>\n",
              "      <td>4</td>\n",
              "      <td>0.186700</td>\n",
              "      <td>0.235438</td>\n",
              "      <td>0.391919</td>\n",
              "      <td>0.433036</td>\n",
              "      <td>0.411453</td>\n",
              "      <td>0.921330</td>\n",
              "    </tr>\n",
              "    <tr>\n",
              "      <td>5</td>\n",
              "      <td>0.169600</td>\n",
              "      <td>0.237988</td>\n",
              "      <td>0.416016</td>\n",
              "      <td>0.475446</td>\n",
              "      <td>0.443750</td>\n",
              "      <td>0.918792</td>\n",
              "    </tr>\n",
              "  </tbody>\n",
              "</table><p>"
            ]
          },
          "metadata": {}
        },
        {
          "output_type": "display_data",
          "data": {
            "text/plain": [
              "<IPython.core.display.HTML object>"
            ],
            "text/html": [
              "\n",
              "    <div>\n",
              "      \n",
              "      <progress value='198' max='105' style='width:300px; height:20px; vertical-align: middle;'></progress>\n",
              "      [105/105 00:19]\n",
              "    </div>\n",
              "    "
            ]
          },
          "metadata": {}
        },
        {
          "output_type": "stream",
          "name": "stdout",
          "text": [
            "Processing Fold: 3\n"
          ]
        },
        {
          "output_type": "stream",
          "name": "stderr",
          "text": [
            "Some weights of the model checkpoint at bert-base-multilingual-cased were not used when initializing BertForTokenClassification: ['cls.predictions.decoder.weight', 'cls.predictions.transform.dense.weight', 'cls.predictions.transform.LayerNorm.weight', 'cls.seq_relationship.bias', 'cls.predictions.bias', 'cls.predictions.transform.LayerNorm.bias', 'cls.seq_relationship.weight', 'cls.predictions.transform.dense.bias']\n",
            "- This IS expected if you are initializing BertForTokenClassification from the checkpoint of a model trained on another task or with another architecture (e.g. initializing a BertForSequenceClassification model from a BertForPreTraining model).\n",
            "- This IS NOT expected if you are initializing BertForTokenClassification from the checkpoint of a model that you expect to be exactly identical (initializing a BertForSequenceClassification model from a BertForSequenceClassification model).\n",
            "Some weights of BertForTokenClassification were not initialized from the model checkpoint at bert-base-multilingual-cased and are newly initialized: ['classifier.bias', 'classifier.weight']\n",
            "You should probably TRAIN this model on a down-stream task to be able to use it for predictions and inference.\n"
          ]
        },
        {
          "output_type": "stream",
          "name": "stdout",
          "text": [
            "Training Model: bert-base-multilingual-cased\n"
          ]
        },
        {
          "output_type": "stream",
          "name": "stderr",
          "text": [
            "You're using a BertTokenizerFast tokenizer. Please note that with a fast tokenizer, using the `__call__` method is faster than using a method to encode the text followed by a call to the `pad` method to get a padded encoding.\n"
          ]
        },
        {
          "output_type": "display_data",
          "data": {
            "text/plain": [
              "<IPython.core.display.HTML object>"
            ],
            "text/html": [
              "\n",
              "    <div>\n",
              "      \n",
              "      <progress value='315' max='315' style='width:300px; height:20px; vertical-align: middle;'></progress>\n",
              "      [315/315 01:34, Epoch 3/3]\n",
              "    </div>\n",
              "    <table border=\"1\" class=\"dataframe\">\n",
              "  <thead>\n",
              " <tr style=\"text-align: left;\">\n",
              "      <th>Epoch</th>\n",
              "      <th>Training Loss</th>\n",
              "      <th>Validation Loss</th>\n",
              "      <th>Val Precision</th>\n",
              "      <th>Val Recall</th>\n",
              "      <th>Val F1</th>\n",
              "      <th>Val Accuracy</th>\n",
              "    </tr>\n",
              "  </thead>\n",
              "  <tbody>\n",
              "    <tr>\n",
              "      <td>1</td>\n",
              "      <td>0.411200</td>\n",
              "      <td>0.261780</td>\n",
              "      <td>0.338384</td>\n",
              "      <td>0.301802</td>\n",
              "      <td>0.319048</td>\n",
              "      <td>0.908771</td>\n",
              "    </tr>\n",
              "    <tr>\n",
              "      <td>2</td>\n",
              "      <td>0.236000</td>\n",
              "      <td>0.242943</td>\n",
              "      <td>0.363029</td>\n",
              "      <td>0.367117</td>\n",
              "      <td>0.365062</td>\n",
              "      <td>0.913420</td>\n",
              "    </tr>\n",
              "    <tr>\n",
              "      <td>3</td>\n",
              "      <td>0.188900</td>\n",
              "      <td>0.251306</td>\n",
              "      <td>0.384306</td>\n",
              "      <td>0.430180</td>\n",
              "      <td>0.405951</td>\n",
              "      <td>0.914551</td>\n",
              "    </tr>\n",
              "  </tbody>\n",
              "</table><p>"
            ]
          },
          "metadata": {}
        },
        {
          "output_type": "display_data",
          "data": {
            "text/plain": [
              "<IPython.core.display.HTML object>"
            ],
            "text/html": [
              "\n",
              "    <div>\n",
              "      \n",
              "      <progress value='198' max='105' style='width:300px; height:20px; vertical-align: middle;'></progress>\n",
              "      [105/105 00:16]\n",
              "    </div>\n",
              "    "
            ]
          },
          "metadata": {}
        },
        {
          "output_type": "stream",
          "name": "stderr",
          "text": [
            "Some weights of the model checkpoint at xlm-roberta-base were not used when initializing XLMRobertaForTokenClassification: ['lm_head.layer_norm.weight', 'lm_head.dense.bias', 'lm_head.layer_norm.bias', 'lm_head.decoder.weight', 'lm_head.bias', 'lm_head.dense.weight']\n",
            "- This IS expected if you are initializing XLMRobertaForTokenClassification from the checkpoint of a model trained on another task or with another architecture (e.g. initializing a BertForSequenceClassification model from a BertForPreTraining model).\n",
            "- This IS NOT expected if you are initializing XLMRobertaForTokenClassification from the checkpoint of a model that you expect to be exactly identical (initializing a BertForSequenceClassification model from a BertForSequenceClassification model).\n",
            "Some weights of XLMRobertaForTokenClassification were not initialized from the model checkpoint at xlm-roberta-base and are newly initialized: ['classifier.bias', 'classifier.weight']\n",
            "You should probably TRAIN this model on a down-stream task to be able to use it for predictions and inference.\n"
          ]
        },
        {
          "output_type": "stream",
          "name": "stdout",
          "text": [
            "Training Model: xlm-roberta-base\n"
          ]
        },
        {
          "output_type": "stream",
          "name": "stderr",
          "text": [
            "You're using a XLMRobertaTokenizerFast tokenizer. Please note that with a fast tokenizer, using the `__call__` method is faster than using a method to encode the text followed by a call to the `pad` method to get a padded encoding.\n"
          ]
        },
        {
          "output_type": "display_data",
          "data": {
            "text/plain": [
              "<IPython.core.display.HTML object>"
            ],
            "text/html": [
              "\n",
              "    <div>\n",
              "      \n",
              "      <progress value='525' max='525' style='width:300px; height:20px; vertical-align: middle;'></progress>\n",
              "      [525/525 03:19, Epoch 5/5]\n",
              "    </div>\n",
              "    <table border=\"1\" class=\"dataframe\">\n",
              "  <thead>\n",
              " <tr style=\"text-align: left;\">\n",
              "      <th>Epoch</th>\n",
              "      <th>Training Loss</th>\n",
              "      <th>Validation Loss</th>\n",
              "      <th>Val Precision</th>\n",
              "      <th>Val Recall</th>\n",
              "      <th>Val F1</th>\n",
              "      <th>Val Accuracy</th>\n",
              "    </tr>\n",
              "  </thead>\n",
              "  <tbody>\n",
              "    <tr>\n",
              "      <td>1</td>\n",
              "      <td>0.587600</td>\n",
              "      <td>0.439303</td>\n",
              "      <td>0.211982</td>\n",
              "      <td>0.103604</td>\n",
              "      <td>0.139183</td>\n",
              "      <td>0.881389</td>\n",
              "    </tr>\n",
              "    <tr>\n",
              "      <td>2</td>\n",
              "      <td>0.363700</td>\n",
              "      <td>0.307853</td>\n",
              "      <td>0.261333</td>\n",
              "      <td>0.220721</td>\n",
              "      <td>0.239316</td>\n",
              "      <td>0.898947</td>\n",
              "    </tr>\n",
              "    <tr>\n",
              "      <td>3</td>\n",
              "      <td>0.276400</td>\n",
              "      <td>0.271599</td>\n",
              "      <td>0.314286</td>\n",
              "      <td>0.371622</td>\n",
              "      <td>0.340557</td>\n",
              "      <td>0.904149</td>\n",
              "    </tr>\n",
              "    <tr>\n",
              "      <td>4</td>\n",
              "      <td>0.239500</td>\n",
              "      <td>0.272294</td>\n",
              "      <td>0.332700</td>\n",
              "      <td>0.394144</td>\n",
              "      <td>0.360825</td>\n",
              "      <td>0.906750</td>\n",
              "    </tr>\n",
              "    <tr>\n",
              "      <td>5</td>\n",
              "      <td>0.217600</td>\n",
              "      <td>0.259332</td>\n",
              "      <td>0.351406</td>\n",
              "      <td>0.394144</td>\n",
              "      <td>0.371550</td>\n",
              "      <td>0.911952</td>\n",
              "    </tr>\n",
              "  </tbody>\n",
              "</table><p>"
            ]
          },
          "metadata": {}
        },
        {
          "output_type": "display_data",
          "data": {
            "text/plain": [
              "<IPython.core.display.HTML object>"
            ],
            "text/html": [
              "\n",
              "    <div>\n",
              "      \n",
              "      <progress value='198' max='105' style='width:300px; height:20px; vertical-align: middle;'></progress>\n",
              "      [105/105 00:17]\n",
              "    </div>\n",
              "    "
            ]
          },
          "metadata": {}
        },
        {
          "output_type": "stream",
          "name": "stdout",
          "text": [
            "Processing Fold: 4\n"
          ]
        },
        {
          "output_type": "stream",
          "name": "stderr",
          "text": [
            "Some weights of the model checkpoint at bert-base-multilingual-cased were not used when initializing BertForTokenClassification: ['cls.predictions.decoder.weight', 'cls.predictions.transform.dense.weight', 'cls.predictions.transform.LayerNorm.weight', 'cls.seq_relationship.bias', 'cls.predictions.bias', 'cls.predictions.transform.LayerNorm.bias', 'cls.seq_relationship.weight', 'cls.predictions.transform.dense.bias']\n",
            "- This IS expected if you are initializing BertForTokenClassification from the checkpoint of a model trained on another task or with another architecture (e.g. initializing a BertForSequenceClassification model from a BertForPreTraining model).\n",
            "- This IS NOT expected if you are initializing BertForTokenClassification from the checkpoint of a model that you expect to be exactly identical (initializing a BertForSequenceClassification model from a BertForSequenceClassification model).\n",
            "Some weights of BertForTokenClassification were not initialized from the model checkpoint at bert-base-multilingual-cased and are newly initialized: ['classifier.bias', 'classifier.weight']\n",
            "You should probably TRAIN this model on a down-stream task to be able to use it for predictions and inference.\n"
          ]
        },
        {
          "output_type": "stream",
          "name": "stdout",
          "text": [
            "Training Model: bert-base-multilingual-cased\n"
          ]
        },
        {
          "output_type": "stream",
          "name": "stderr",
          "text": [
            "You're using a BertTokenizerFast tokenizer. Please note that with a fast tokenizer, using the `__call__` method is faster than using a method to encode the text followed by a call to the `pad` method to get a padded encoding.\n"
          ]
        },
        {
          "output_type": "display_data",
          "data": {
            "text/plain": [
              "<IPython.core.display.HTML object>"
            ],
            "text/html": [
              "\n",
              "    <div>\n",
              "      \n",
              "      <progress value='315' max='315' style='width:300px; height:20px; vertical-align: middle;'></progress>\n",
              "      [315/315 01:35, Epoch 3/3]\n",
              "    </div>\n",
              "    <table border=\"1\" class=\"dataframe\">\n",
              "  <thead>\n",
              " <tr style=\"text-align: left;\">\n",
              "      <th>Epoch</th>\n",
              "      <th>Training Loss</th>\n",
              "      <th>Validation Loss</th>\n",
              "      <th>Val Precision</th>\n",
              "      <th>Val Recall</th>\n",
              "      <th>Val F1</th>\n",
              "      <th>Val Accuracy</th>\n",
              "    </tr>\n",
              "  </thead>\n",
              "  <tbody>\n",
              "    <tr>\n",
              "      <td>1</td>\n",
              "      <td>0.409700</td>\n",
              "      <td>0.226115</td>\n",
              "      <td>0.298000</td>\n",
              "      <td>0.354762</td>\n",
              "      <td>0.323913</td>\n",
              "      <td>0.916313</td>\n",
              "    </tr>\n",
              "    <tr>\n",
              "      <td>2</td>\n",
              "      <td>0.231800</td>\n",
              "      <td>0.195050</td>\n",
              "      <td>0.370213</td>\n",
              "      <td>0.414286</td>\n",
              "      <td>0.391011</td>\n",
              "      <td>0.925597</td>\n",
              "    </tr>\n",
              "    <tr>\n",
              "      <td>3</td>\n",
              "      <td>0.188400</td>\n",
              "      <td>0.194996</td>\n",
              "      <td>0.411017</td>\n",
              "      <td>0.461905</td>\n",
              "      <td>0.434978</td>\n",
              "      <td>0.929576</td>\n",
              "    </tr>\n",
              "  </tbody>\n",
              "</table><p>"
            ]
          },
          "metadata": {}
        },
        {
          "output_type": "display_data",
          "data": {
            "text/plain": [
              "<IPython.core.display.HTML object>"
            ],
            "text/html": [
              "\n",
              "    <div>\n",
              "      \n",
              "      <progress value='198' max='105' style='width:300px; height:20px; vertical-align: middle;'></progress>\n",
              "      [105/105 00:16]\n",
              "    </div>\n",
              "    "
            ]
          },
          "metadata": {}
        },
        {
          "output_type": "stream",
          "name": "stderr",
          "text": [
            "Some weights of the model checkpoint at xlm-roberta-base were not used when initializing XLMRobertaForTokenClassification: ['lm_head.layer_norm.weight', 'lm_head.dense.bias', 'lm_head.layer_norm.bias', 'lm_head.decoder.weight', 'lm_head.bias', 'lm_head.dense.weight']\n",
            "- This IS expected if you are initializing XLMRobertaForTokenClassification from the checkpoint of a model trained on another task or with another architecture (e.g. initializing a BertForSequenceClassification model from a BertForPreTraining model).\n",
            "- This IS NOT expected if you are initializing XLMRobertaForTokenClassification from the checkpoint of a model that you expect to be exactly identical (initializing a BertForSequenceClassification model from a BertForSequenceClassification model).\n",
            "Some weights of XLMRobertaForTokenClassification were not initialized from the model checkpoint at xlm-roberta-base and are newly initialized: ['classifier.bias', 'classifier.weight']\n",
            "You should probably TRAIN this model on a down-stream task to be able to use it for predictions and inference.\n"
          ]
        },
        {
          "output_type": "stream",
          "name": "stdout",
          "text": [
            "Training Model: xlm-roberta-base\n"
          ]
        },
        {
          "output_type": "stream",
          "name": "stderr",
          "text": [
            "You're using a XLMRobertaTokenizerFast tokenizer. Please note that with a fast tokenizer, using the `__call__` method is faster than using a method to encode the text followed by a call to the `pad` method to get a padded encoding.\n"
          ]
        },
        {
          "output_type": "display_data",
          "data": {
            "text/plain": [
              "<IPython.core.display.HTML object>"
            ],
            "text/html": [
              "\n",
              "    <div>\n",
              "      \n",
              "      <progress value='525' max='525' style='width:300px; height:20px; vertical-align: middle;'></progress>\n",
              "      [525/525 03:22, Epoch 5/5]\n",
              "    </div>\n",
              "    <table border=\"1\" class=\"dataframe\">\n",
              "  <thead>\n",
              " <tr style=\"text-align: left;\">\n",
              "      <th>Epoch</th>\n",
              "      <th>Training Loss</th>\n",
              "      <th>Validation Loss</th>\n",
              "      <th>Val Precision</th>\n",
              "      <th>Val Recall</th>\n",
              "      <th>Val F1</th>\n",
              "      <th>Val Accuracy</th>\n",
              "    </tr>\n",
              "  </thead>\n",
              "  <tbody>\n",
              "    <tr>\n",
              "      <td>1</td>\n",
              "      <td>0.533500</td>\n",
              "      <td>0.274023</td>\n",
              "      <td>0.172775</td>\n",
              "      <td>0.078571</td>\n",
              "      <td>0.108020</td>\n",
              "      <td>0.901909</td>\n",
              "    </tr>\n",
              "    <tr>\n",
              "      <td>2</td>\n",
              "      <td>0.290400</td>\n",
              "      <td>0.217072</td>\n",
              "      <td>0.332710</td>\n",
              "      <td>0.423810</td>\n",
              "      <td>0.372775</td>\n",
              "      <td>0.917820</td>\n",
              "    </tr>\n",
              "    <tr>\n",
              "      <td>3</td>\n",
              "      <td>0.230600</td>\n",
              "      <td>0.203819</td>\n",
              "      <td>0.433925</td>\n",
              "      <td>0.523810</td>\n",
              "      <td>0.474649</td>\n",
              "      <td>0.926536</td>\n",
              "    </tr>\n",
              "    <tr>\n",
              "      <td>4</td>\n",
              "      <td>0.198000</td>\n",
              "      <td>0.194020</td>\n",
              "      <td>0.448077</td>\n",
              "      <td>0.554762</td>\n",
              "      <td>0.495745</td>\n",
              "      <td>0.930686</td>\n",
              "    </tr>\n",
              "    <tr>\n",
              "      <td>5</td>\n",
              "      <td>0.176600</td>\n",
              "      <td>0.185042</td>\n",
              "      <td>0.484000</td>\n",
              "      <td>0.576190</td>\n",
              "      <td>0.526087</td>\n",
              "      <td>0.934698</td>\n",
              "    </tr>\n",
              "  </tbody>\n",
              "</table><p>"
            ]
          },
          "metadata": {}
        },
        {
          "output_type": "display_data",
          "data": {
            "text/plain": [
              "<IPython.core.display.HTML object>"
            ],
            "text/html": [
              "\n",
              "    <div>\n",
              "      \n",
              "      <progress value='198' max='105' style='width:300px; height:20px; vertical-align: middle;'></progress>\n",
              "      [105/105 00:17]\n",
              "    </div>\n",
              "    "
            ]
          },
          "metadata": {}
        },
        {
          "output_type": "stream",
          "name": "stdout",
          "text": [
            "Processing Fold: 5\n"
          ]
        },
        {
          "output_type": "stream",
          "name": "stderr",
          "text": [
            "Some weights of the model checkpoint at bert-base-multilingual-cased were not used when initializing BertForTokenClassification: ['cls.predictions.decoder.weight', 'cls.predictions.transform.dense.weight', 'cls.predictions.transform.LayerNorm.weight', 'cls.seq_relationship.bias', 'cls.predictions.bias', 'cls.predictions.transform.LayerNorm.bias', 'cls.seq_relationship.weight', 'cls.predictions.transform.dense.bias']\n",
            "- This IS expected if you are initializing BertForTokenClassification from the checkpoint of a model trained on another task or with another architecture (e.g. initializing a BertForSequenceClassification model from a BertForPreTraining model).\n",
            "- This IS NOT expected if you are initializing BertForTokenClassification from the checkpoint of a model that you expect to be exactly identical (initializing a BertForSequenceClassification model from a BertForSequenceClassification model).\n",
            "Some weights of BertForTokenClassification were not initialized from the model checkpoint at bert-base-multilingual-cased and are newly initialized: ['classifier.bias', 'classifier.weight']\n",
            "You should probably TRAIN this model on a down-stream task to be able to use it for predictions and inference.\n"
          ]
        },
        {
          "output_type": "stream",
          "name": "stdout",
          "text": [
            "Training Model: bert-base-multilingual-cased\n"
          ]
        },
        {
          "output_type": "stream",
          "name": "stderr",
          "text": [
            "You're using a BertTokenizerFast tokenizer. Please note that with a fast tokenizer, using the `__call__` method is faster than using a method to encode the text followed by a call to the `pad` method to get a padded encoding.\n"
          ]
        },
        {
          "output_type": "display_data",
          "data": {
            "text/plain": [
              "<IPython.core.display.HTML object>"
            ],
            "text/html": [
              "\n",
              "    <div>\n",
              "      \n",
              "      <progress value='315' max='315' style='width:300px; height:20px; vertical-align: middle;'></progress>\n",
              "      [315/315 01:34, Epoch 3/3]\n",
              "    </div>\n",
              "    <table border=\"1\" class=\"dataframe\">\n",
              "  <thead>\n",
              " <tr style=\"text-align: left;\">\n",
              "      <th>Epoch</th>\n",
              "      <th>Training Loss</th>\n",
              "      <th>Validation Loss</th>\n",
              "      <th>Val Precision</th>\n",
              "      <th>Val Recall</th>\n",
              "      <th>Val F1</th>\n",
              "      <th>Val Accuracy</th>\n",
              "    </tr>\n",
              "  </thead>\n",
              "  <tbody>\n",
              "    <tr>\n",
              "      <td>1</td>\n",
              "      <td>0.394100</td>\n",
              "      <td>0.272069</td>\n",
              "      <td>0.292906</td>\n",
              "      <td>0.291572</td>\n",
              "      <td>0.292237</td>\n",
              "      <td>0.903623</td>\n",
              "    </tr>\n",
              "    <tr>\n",
              "      <td>2</td>\n",
              "      <td>0.226000</td>\n",
              "      <td>0.251593</td>\n",
              "      <td>0.257290</td>\n",
              "      <td>0.341686</td>\n",
              "      <td>0.293542</td>\n",
              "      <td>0.911344</td>\n",
              "    </tr>\n",
              "    <tr>\n",
              "      <td>3</td>\n",
              "      <td>0.180600</td>\n",
              "      <td>0.261303</td>\n",
              "      <td>0.352227</td>\n",
              "      <td>0.396355</td>\n",
              "      <td>0.372990</td>\n",
              "      <td>0.916449</td>\n",
              "    </tr>\n",
              "  </tbody>\n",
              "</table><p>"
            ]
          },
          "metadata": {}
        },
        {
          "output_type": "display_data",
          "data": {
            "text/plain": [
              "<IPython.core.display.HTML object>"
            ],
            "text/html": [
              "\n",
              "    <div>\n",
              "      \n",
              "      <progress value='198' max='105' style='width:300px; height:20px; vertical-align: middle;'></progress>\n",
              "      [105/105 00:16]\n",
              "    </div>\n",
              "    "
            ]
          },
          "metadata": {}
        },
        {
          "output_type": "stream",
          "name": "stderr",
          "text": [
            "Some weights of the model checkpoint at xlm-roberta-base were not used when initializing XLMRobertaForTokenClassification: ['lm_head.layer_norm.weight', 'lm_head.dense.bias', 'lm_head.layer_norm.bias', 'lm_head.decoder.weight', 'lm_head.bias', 'lm_head.dense.weight']\n",
            "- This IS expected if you are initializing XLMRobertaForTokenClassification from the checkpoint of a model trained on another task or with another architecture (e.g. initializing a BertForSequenceClassification model from a BertForPreTraining model).\n",
            "- This IS NOT expected if you are initializing XLMRobertaForTokenClassification from the checkpoint of a model that you expect to be exactly identical (initializing a BertForSequenceClassification model from a BertForSequenceClassification model).\n",
            "Some weights of XLMRobertaForTokenClassification were not initialized from the model checkpoint at xlm-roberta-base and are newly initialized: ['classifier.bias', 'classifier.weight']\n",
            "You should probably TRAIN this model on a down-stream task to be able to use it for predictions and inference.\n"
          ]
        },
        {
          "output_type": "stream",
          "name": "stdout",
          "text": [
            "Training Model: xlm-roberta-base\n"
          ]
        },
        {
          "output_type": "stream",
          "name": "stderr",
          "text": [
            "You're using a XLMRobertaTokenizerFast tokenizer. Please note that with a fast tokenizer, using the `__call__` method is faster than using a method to encode the text followed by a call to the `pad` method to get a padded encoding.\n"
          ]
        },
        {
          "output_type": "display_data",
          "data": {
            "text/plain": [
              "<IPython.core.display.HTML object>"
            ],
            "text/html": [
              "\n",
              "    <div>\n",
              "      \n",
              "      <progress value='525' max='525' style='width:300px; height:20px; vertical-align: middle;'></progress>\n",
              "      [525/525 03:24, Epoch 5/5]\n",
              "    </div>\n",
              "    <table border=\"1\" class=\"dataframe\">\n",
              "  <thead>\n",
              " <tr style=\"text-align: left;\">\n",
              "      <th>Epoch</th>\n",
              "      <th>Training Loss</th>\n",
              "      <th>Validation Loss</th>\n",
              "      <th>Val Precision</th>\n",
              "      <th>Val Recall</th>\n",
              "      <th>Val F1</th>\n",
              "      <th>Val Accuracy</th>\n",
              "    </tr>\n",
              "  </thead>\n",
              "  <tbody>\n",
              "    <tr>\n",
              "      <td>1</td>\n",
              "      <td>0.532000</td>\n",
              "      <td>0.350550</td>\n",
              "      <td>0.217391</td>\n",
              "      <td>0.068337</td>\n",
              "      <td>0.103986</td>\n",
              "      <td>0.884766</td>\n",
              "    </tr>\n",
              "    <tr>\n",
              "      <td>2</td>\n",
              "      <td>0.281200</td>\n",
              "      <td>0.279420</td>\n",
              "      <td>0.293729</td>\n",
              "      <td>0.405467</td>\n",
              "      <td>0.340670</td>\n",
              "      <td>0.899219</td>\n",
              "    </tr>\n",
              "    <tr>\n",
              "      <td>3</td>\n",
              "      <td>0.223500</td>\n",
              "      <td>0.237945</td>\n",
              "      <td>0.399538</td>\n",
              "      <td>0.394077</td>\n",
              "      <td>0.396789</td>\n",
              "      <td>0.919922</td>\n",
              "    </tr>\n",
              "    <tr>\n",
              "      <td>4</td>\n",
              "      <td>0.191100</td>\n",
              "      <td>0.242474</td>\n",
              "      <td>0.392789</td>\n",
              "      <td>0.471526</td>\n",
              "      <td>0.428571</td>\n",
              "      <td>0.919922</td>\n",
              "    </tr>\n",
              "    <tr>\n",
              "      <td>5</td>\n",
              "      <td>0.171800</td>\n",
              "      <td>0.240295</td>\n",
              "      <td>0.431290</td>\n",
              "      <td>0.464692</td>\n",
              "      <td>0.447368</td>\n",
              "      <td>0.922917</td>\n",
              "    </tr>\n",
              "  </tbody>\n",
              "</table><p>"
            ]
          },
          "metadata": {}
        },
        {
          "output_type": "display_data",
          "data": {
            "text/plain": [
              "<IPython.core.display.HTML object>"
            ],
            "text/html": [
              "\n",
              "    <div>\n",
              "      \n",
              "      <progress value='198' max='105' style='width:300px; height:20px; vertical-align: middle;'></progress>\n",
              "      [105/105 00:17]\n",
              "    </div>\n",
              "    "
            ]
          },
          "metadata": {}
        },
        {
          "output_type": "stream",
          "name": "stdout",
          "text": [
            "Processing Fold: 6\n"
          ]
        },
        {
          "output_type": "stream",
          "name": "stderr",
          "text": [
            "Some weights of the model checkpoint at bert-base-multilingual-cased were not used when initializing BertForTokenClassification: ['cls.predictions.decoder.weight', 'cls.predictions.transform.dense.weight', 'cls.predictions.transform.LayerNorm.weight', 'cls.seq_relationship.bias', 'cls.predictions.bias', 'cls.predictions.transform.LayerNorm.bias', 'cls.seq_relationship.weight', 'cls.predictions.transform.dense.bias']\n",
            "- This IS expected if you are initializing BertForTokenClassification from the checkpoint of a model trained on another task or with another architecture (e.g. initializing a BertForSequenceClassification model from a BertForPreTraining model).\n",
            "- This IS NOT expected if you are initializing BertForTokenClassification from the checkpoint of a model that you expect to be exactly identical (initializing a BertForSequenceClassification model from a BertForSequenceClassification model).\n",
            "Some weights of BertForTokenClassification were not initialized from the model checkpoint at bert-base-multilingual-cased and are newly initialized: ['classifier.bias', 'classifier.weight']\n",
            "You should probably TRAIN this model on a down-stream task to be able to use it for predictions and inference.\n"
          ]
        },
        {
          "output_type": "stream",
          "name": "stdout",
          "text": [
            "Training Model: bert-base-multilingual-cased\n"
          ]
        },
        {
          "output_type": "stream",
          "name": "stderr",
          "text": [
            "You're using a BertTokenizerFast tokenizer. Please note that with a fast tokenizer, using the `__call__` method is faster than using a method to encode the text followed by a call to the `pad` method to get a padded encoding.\n"
          ]
        },
        {
          "output_type": "display_data",
          "data": {
            "text/plain": [
              "<IPython.core.display.HTML object>"
            ],
            "text/html": [
              "\n",
              "    <div>\n",
              "      \n",
              "      <progress value='315' max='315' style='width:300px; height:20px; vertical-align: middle;'></progress>\n",
              "      [315/315 01:34, Epoch 3/3]\n",
              "    </div>\n",
              "    <table border=\"1\" class=\"dataframe\">\n",
              "  <thead>\n",
              " <tr style=\"text-align: left;\">\n",
              "      <th>Epoch</th>\n",
              "      <th>Training Loss</th>\n",
              "      <th>Validation Loss</th>\n",
              "      <th>Val Precision</th>\n",
              "      <th>Val Recall</th>\n",
              "      <th>Val F1</th>\n",
              "      <th>Val Accuracy</th>\n",
              "    </tr>\n",
              "  </thead>\n",
              "  <tbody>\n",
              "    <tr>\n",
              "      <td>1</td>\n",
              "      <td>0.408500</td>\n",
              "      <td>0.248884</td>\n",
              "      <td>0.284382</td>\n",
              "      <td>0.274775</td>\n",
              "      <td>0.279496</td>\n",
              "      <td>0.913640</td>\n",
              "    </tr>\n",
              "    <tr>\n",
              "      <td>2</td>\n",
              "      <td>0.240500</td>\n",
              "      <td>0.223155</td>\n",
              "      <td>0.330224</td>\n",
              "      <td>0.398649</td>\n",
              "      <td>0.361224</td>\n",
              "      <td>0.920682</td>\n",
              "    </tr>\n",
              "    <tr>\n",
              "      <td>3</td>\n",
              "      <td>0.193000</td>\n",
              "      <td>0.215722</td>\n",
              "      <td>0.380414</td>\n",
              "      <td>0.454955</td>\n",
              "      <td>0.414359</td>\n",
              "      <td>0.927477</td>\n",
              "    </tr>\n",
              "  </tbody>\n",
              "</table><p>"
            ]
          },
          "metadata": {}
        },
        {
          "output_type": "display_data",
          "data": {
            "text/plain": [
              "<IPython.core.display.HTML object>"
            ],
            "text/html": [
              "\n",
              "    <div>\n",
              "      \n",
              "      <progress value='198' max='105' style='width:300px; height:20px; vertical-align: middle;'></progress>\n",
              "      [105/105 00:17]\n",
              "    </div>\n",
              "    "
            ]
          },
          "metadata": {}
        },
        {
          "output_type": "stream",
          "name": "stderr",
          "text": [
            "Some weights of the model checkpoint at xlm-roberta-base were not used when initializing XLMRobertaForTokenClassification: ['lm_head.layer_norm.weight', 'lm_head.dense.bias', 'lm_head.layer_norm.bias', 'lm_head.decoder.weight', 'lm_head.bias', 'lm_head.dense.weight']\n",
            "- This IS expected if you are initializing XLMRobertaForTokenClassification from the checkpoint of a model trained on another task or with another architecture (e.g. initializing a BertForSequenceClassification model from a BertForPreTraining model).\n",
            "- This IS NOT expected if you are initializing XLMRobertaForTokenClassification from the checkpoint of a model that you expect to be exactly identical (initializing a BertForSequenceClassification model from a BertForSequenceClassification model).\n",
            "Some weights of XLMRobertaForTokenClassification were not initialized from the model checkpoint at xlm-roberta-base and are newly initialized: ['classifier.bias', 'classifier.weight']\n",
            "You should probably TRAIN this model on a down-stream task to be able to use it for predictions and inference.\n"
          ]
        },
        {
          "output_type": "stream",
          "name": "stdout",
          "text": [
            "Training Model: xlm-roberta-base\n"
          ]
        },
        {
          "output_type": "stream",
          "name": "stderr",
          "text": [
            "You're using a XLMRobertaTokenizerFast tokenizer. Please note that with a fast tokenizer, using the `__call__` method is faster than using a method to encode the text followed by a call to the `pad` method to get a padded encoding.\n"
          ]
        },
        {
          "output_type": "display_data",
          "data": {
            "text/plain": [
              "<IPython.core.display.HTML object>"
            ],
            "text/html": [
              "\n",
              "    <div>\n",
              "      \n",
              "      <progress value='525' max='525' style='width:300px; height:20px; vertical-align: middle;'></progress>\n",
              "      [525/525 03:25, Epoch 5/5]\n",
              "    </div>\n",
              "    <table border=\"1\" class=\"dataframe\">\n",
              "  <thead>\n",
              " <tr style=\"text-align: left;\">\n",
              "      <th>Epoch</th>\n",
              "      <th>Training Loss</th>\n",
              "      <th>Validation Loss</th>\n",
              "      <th>Val Precision</th>\n",
              "      <th>Val Recall</th>\n",
              "      <th>Val F1</th>\n",
              "      <th>Val Accuracy</th>\n",
              "    </tr>\n",
              "  </thead>\n",
              "  <tbody>\n",
              "    <tr>\n",
              "      <td>1</td>\n",
              "      <td>0.537300</td>\n",
              "      <td>0.290548</td>\n",
              "      <td>0.234000</td>\n",
              "      <td>0.263514</td>\n",
              "      <td>0.247881</td>\n",
              "      <td>0.898471</td>\n",
              "    </tr>\n",
              "    <tr>\n",
              "      <td>2</td>\n",
              "      <td>0.285500</td>\n",
              "      <td>0.228844</td>\n",
              "      <td>0.338600</td>\n",
              "      <td>0.337838</td>\n",
              "      <td>0.338219</td>\n",
              "      <td>0.920062</td>\n",
              "    </tr>\n",
              "    <tr>\n",
              "      <td>3</td>\n",
              "      <td>0.223700</td>\n",
              "      <td>0.201844</td>\n",
              "      <td>0.458150</td>\n",
              "      <td>0.468468</td>\n",
              "      <td>0.463252</td>\n",
              "      <td>0.931757</td>\n",
              "    </tr>\n",
              "    <tr>\n",
              "      <td>4</td>\n",
              "      <td>0.194800</td>\n",
              "      <td>0.193962</td>\n",
              "      <td>0.469636</td>\n",
              "      <td>0.522523</td>\n",
              "      <td>0.494670</td>\n",
              "      <td>0.935355</td>\n",
              "    </tr>\n",
              "    <tr>\n",
              "      <td>5</td>\n",
              "      <td>0.170200</td>\n",
              "      <td>0.200218</td>\n",
              "      <td>0.463320</td>\n",
              "      <td>0.540541</td>\n",
              "      <td>0.498960</td>\n",
              "      <td>0.932914</td>\n",
              "    </tr>\n",
              "  </tbody>\n",
              "</table><p>"
            ]
          },
          "metadata": {}
        },
        {
          "output_type": "display_data",
          "data": {
            "text/plain": [
              "<IPython.core.display.HTML object>"
            ],
            "text/html": [
              "\n",
              "    <div>\n",
              "      \n",
              "      <progress value='198' max='105' style='width:300px; height:20px; vertical-align: middle;'></progress>\n",
              "      [105/105 00:17]\n",
              "    </div>\n",
              "    "
            ]
          },
          "metadata": {}
        },
        {
          "output_type": "stream",
          "name": "stdout",
          "text": [
            "Processing Fold: 7\n"
          ]
        },
        {
          "output_type": "stream",
          "name": "stderr",
          "text": [
            "Some weights of the model checkpoint at bert-base-multilingual-cased were not used when initializing BertForTokenClassification: ['cls.predictions.decoder.weight', 'cls.predictions.transform.dense.weight', 'cls.predictions.transform.LayerNorm.weight', 'cls.seq_relationship.bias', 'cls.predictions.bias', 'cls.predictions.transform.LayerNorm.bias', 'cls.seq_relationship.weight', 'cls.predictions.transform.dense.bias']\n",
            "- This IS expected if you are initializing BertForTokenClassification from the checkpoint of a model trained on another task or with another architecture (e.g. initializing a BertForSequenceClassification model from a BertForPreTraining model).\n",
            "- This IS NOT expected if you are initializing BertForTokenClassification from the checkpoint of a model that you expect to be exactly identical (initializing a BertForSequenceClassification model from a BertForSequenceClassification model).\n",
            "Some weights of BertForTokenClassification were not initialized from the model checkpoint at bert-base-multilingual-cased and are newly initialized: ['classifier.bias', 'classifier.weight']\n",
            "You should probably TRAIN this model on a down-stream task to be able to use it for predictions and inference.\n"
          ]
        },
        {
          "output_type": "stream",
          "name": "stdout",
          "text": [
            "Training Model: bert-base-multilingual-cased\n"
          ]
        },
        {
          "output_type": "stream",
          "name": "stderr",
          "text": [
            "You're using a BertTokenizerFast tokenizer. Please note that with a fast tokenizer, using the `__call__` method is faster than using a method to encode the text followed by a call to the `pad` method to get a padded encoding.\n"
          ]
        },
        {
          "output_type": "display_data",
          "data": {
            "text/plain": [
              "<IPython.core.display.HTML object>"
            ],
            "text/html": [
              "\n",
              "    <div>\n",
              "      \n",
              "      <progress value='315' max='315' style='width:300px; height:20px; vertical-align: middle;'></progress>\n",
              "      [315/315 01:34, Epoch 3/3]\n",
              "    </div>\n",
              "    <table border=\"1\" class=\"dataframe\">\n",
              "  <thead>\n",
              " <tr style=\"text-align: left;\">\n",
              "      <th>Epoch</th>\n",
              "      <th>Training Loss</th>\n",
              "      <th>Validation Loss</th>\n",
              "      <th>Val Precision</th>\n",
              "      <th>Val Recall</th>\n",
              "      <th>Val F1</th>\n",
              "      <th>Val Accuracy</th>\n",
              "    </tr>\n",
              "  </thead>\n",
              "  <tbody>\n",
              "    <tr>\n",
              "      <td>1</td>\n",
              "      <td>0.397800</td>\n",
              "      <td>0.261547</td>\n",
              "      <td>0.294840</td>\n",
              "      <td>0.262582</td>\n",
              "      <td>0.277778</td>\n",
              "      <td>0.908147</td>\n",
              "    </tr>\n",
              "    <tr>\n",
              "      <td>2</td>\n",
              "      <td>0.220100</td>\n",
              "      <td>0.222494</td>\n",
              "      <td>0.329843</td>\n",
              "      <td>0.413567</td>\n",
              "      <td>0.366990</td>\n",
              "      <td>0.921498</td>\n",
              "    </tr>\n",
              "    <tr>\n",
              "      <td>3</td>\n",
              "      <td>0.175800</td>\n",
              "      <td>0.220151</td>\n",
              "      <td>0.400802</td>\n",
              "      <td>0.437637</td>\n",
              "      <td>0.418410</td>\n",
              "      <td>0.924465</td>\n",
              "    </tr>\n",
              "  </tbody>\n",
              "</table><p>"
            ]
          },
          "metadata": {}
        },
        {
          "output_type": "display_data",
          "data": {
            "text/plain": [
              "<IPython.core.display.HTML object>"
            ],
            "text/html": [
              "\n",
              "    <div>\n",
              "      \n",
              "      <progress value='198' max='105' style='width:300px; height:20px; vertical-align: middle;'></progress>\n",
              "      [105/105 00:17]\n",
              "    </div>\n",
              "    "
            ]
          },
          "metadata": {}
        },
        {
          "output_type": "stream",
          "name": "stderr",
          "text": [
            "Some weights of the model checkpoint at xlm-roberta-base were not used when initializing XLMRobertaForTokenClassification: ['lm_head.layer_norm.weight', 'lm_head.dense.bias', 'lm_head.layer_norm.bias', 'lm_head.decoder.weight', 'lm_head.bias', 'lm_head.dense.weight']\n",
            "- This IS expected if you are initializing XLMRobertaForTokenClassification from the checkpoint of a model trained on another task or with another architecture (e.g. initializing a BertForSequenceClassification model from a BertForPreTraining model).\n",
            "- This IS NOT expected if you are initializing XLMRobertaForTokenClassification from the checkpoint of a model that you expect to be exactly identical (initializing a BertForSequenceClassification model from a BertForSequenceClassification model).\n",
            "Some weights of XLMRobertaForTokenClassification were not initialized from the model checkpoint at xlm-roberta-base and are newly initialized: ['classifier.bias', 'classifier.weight']\n",
            "You should probably TRAIN this model on a down-stream task to be able to use it for predictions and inference.\n"
          ]
        },
        {
          "output_type": "stream",
          "name": "stdout",
          "text": [
            "Training Model: xlm-roberta-base\n"
          ]
        },
        {
          "output_type": "stream",
          "name": "stderr",
          "text": [
            "You're using a XLMRobertaTokenizerFast tokenizer. Please note that with a fast tokenizer, using the `__call__` method is faster than using a method to encode the text followed by a call to the `pad` method to get a padded encoding.\n"
          ]
        },
        {
          "output_type": "display_data",
          "data": {
            "text/plain": [
              "<IPython.core.display.HTML object>"
            ],
            "text/html": [
              "\n",
              "    <div>\n",
              "      \n",
              "      <progress value='525' max='525' style='width:300px; height:20px; vertical-align: middle;'></progress>\n",
              "      [525/525 03:22, Epoch 5/5]\n",
              "    </div>\n",
              "    <table border=\"1\" class=\"dataframe\">\n",
              "  <thead>\n",
              " <tr style=\"text-align: left;\">\n",
              "      <th>Epoch</th>\n",
              "      <th>Training Loss</th>\n",
              "      <th>Validation Loss</th>\n",
              "      <th>Val Precision</th>\n",
              "      <th>Val Recall</th>\n",
              "      <th>Val F1</th>\n",
              "      <th>Val Accuracy</th>\n",
              "    </tr>\n",
              "  </thead>\n",
              "  <tbody>\n",
              "    <tr>\n",
              "      <td>1</td>\n",
              "      <td>0.572800</td>\n",
              "      <td>0.355513</td>\n",
              "      <td>0.114754</td>\n",
              "      <td>0.091904</td>\n",
              "      <td>0.102066</td>\n",
              "      <td>0.883554</td>\n",
              "    </tr>\n",
              "    <tr>\n",
              "      <td>2</td>\n",
              "      <td>0.302800</td>\n",
              "      <td>0.277878</td>\n",
              "      <td>0.263027</td>\n",
              "      <td>0.231947</td>\n",
              "      <td>0.246512</td>\n",
              "      <td>0.904737</td>\n",
              "    </tr>\n",
              "    <tr>\n",
              "      <td>3</td>\n",
              "      <td>0.241300</td>\n",
              "      <td>0.256799</td>\n",
              "      <td>0.298625</td>\n",
              "      <td>0.332604</td>\n",
              "      <td>0.314700</td>\n",
              "      <td>0.907048</td>\n",
              "    </tr>\n",
              "    <tr>\n",
              "      <td>4</td>\n",
              "      <td>0.208400</td>\n",
              "      <td>0.243850</td>\n",
              "      <td>0.317114</td>\n",
              "      <td>0.413567</td>\n",
              "      <td>0.358974</td>\n",
              "      <td>0.911542</td>\n",
              "    </tr>\n",
              "    <tr>\n",
              "      <td>5</td>\n",
              "      <td>0.188200</td>\n",
              "      <td>0.239072</td>\n",
              "      <td>0.369231</td>\n",
              "      <td>0.420131</td>\n",
              "      <td>0.393040</td>\n",
              "      <td>0.915137</td>\n",
              "    </tr>\n",
              "  </tbody>\n",
              "</table><p>"
            ]
          },
          "metadata": {}
        },
        {
          "output_type": "display_data",
          "data": {
            "text/plain": [
              "<IPython.core.display.HTML object>"
            ],
            "text/html": [
              "\n",
              "    <div>\n",
              "      \n",
              "      <progress value='198' max='105' style='width:300px; height:20px; vertical-align: middle;'></progress>\n",
              "      [105/105 00:17]\n",
              "    </div>\n",
              "    "
            ]
          },
          "metadata": {}
        },
        {
          "output_type": "stream",
          "name": "stdout",
          "text": [
            "Processing Fold: 8\n"
          ]
        },
        {
          "output_type": "stream",
          "name": "stderr",
          "text": [
            "Some weights of the model checkpoint at bert-base-multilingual-cased were not used when initializing BertForTokenClassification: ['cls.predictions.decoder.weight', 'cls.predictions.transform.dense.weight', 'cls.predictions.transform.LayerNorm.weight', 'cls.seq_relationship.bias', 'cls.predictions.bias', 'cls.predictions.transform.LayerNorm.bias', 'cls.seq_relationship.weight', 'cls.predictions.transform.dense.bias']\n",
            "- This IS expected if you are initializing BertForTokenClassification from the checkpoint of a model trained on another task or with another architecture (e.g. initializing a BertForSequenceClassification model from a BertForPreTraining model).\n",
            "- This IS NOT expected if you are initializing BertForTokenClassification from the checkpoint of a model that you expect to be exactly identical (initializing a BertForSequenceClassification model from a BertForSequenceClassification model).\n",
            "Some weights of BertForTokenClassification were not initialized from the model checkpoint at bert-base-multilingual-cased and are newly initialized: ['classifier.bias', 'classifier.weight']\n",
            "You should probably TRAIN this model on a down-stream task to be able to use it for predictions and inference.\n"
          ]
        },
        {
          "output_type": "stream",
          "name": "stdout",
          "text": [
            "Training Model: bert-base-multilingual-cased\n"
          ]
        },
        {
          "output_type": "stream",
          "name": "stderr",
          "text": [
            "You're using a BertTokenizerFast tokenizer. Please note that with a fast tokenizer, using the `__call__` method is faster than using a method to encode the text followed by a call to the `pad` method to get a padded encoding.\n"
          ]
        },
        {
          "output_type": "display_data",
          "data": {
            "text/plain": [
              "<IPython.core.display.HTML object>"
            ],
            "text/html": [
              "\n",
              "    <div>\n",
              "      \n",
              "      <progress value='315' max='315' style='width:300px; height:20px; vertical-align: middle;'></progress>\n",
              "      [315/315 01:34, Epoch 3/3]\n",
              "    </div>\n",
              "    <table border=\"1\" class=\"dataframe\">\n",
              "  <thead>\n",
              " <tr style=\"text-align: left;\">\n",
              "      <th>Epoch</th>\n",
              "      <th>Training Loss</th>\n",
              "      <th>Validation Loss</th>\n",
              "      <th>Val Precision</th>\n",
              "      <th>Val Recall</th>\n",
              "      <th>Val F1</th>\n",
              "      <th>Val Accuracy</th>\n",
              "    </tr>\n",
              "  </thead>\n",
              "  <tbody>\n",
              "    <tr>\n",
              "      <td>1</td>\n",
              "      <td>0.392000</td>\n",
              "      <td>0.237825</td>\n",
              "      <td>0.339713</td>\n",
              "      <td>0.334906</td>\n",
              "      <td>0.337292</td>\n",
              "      <td>0.914253</td>\n",
              "    </tr>\n",
              "    <tr>\n",
              "      <td>2</td>\n",
              "      <td>0.219700</td>\n",
              "      <td>0.211479</td>\n",
              "      <td>0.410138</td>\n",
              "      <td>0.419811</td>\n",
              "      <td>0.414918</td>\n",
              "      <td>0.931327</td>\n",
              "    </tr>\n",
              "    <tr>\n",
              "      <td>3</td>\n",
              "      <td>0.166600</td>\n",
              "      <td>0.203922</td>\n",
              "      <td>0.455670</td>\n",
              "      <td>0.521226</td>\n",
              "      <td>0.486249</td>\n",
              "      <td>0.934362</td>\n",
              "    </tr>\n",
              "  </tbody>\n",
              "</table><p>"
            ]
          },
          "metadata": {}
        },
        {
          "output_type": "display_data",
          "data": {
            "text/plain": [
              "<IPython.core.display.HTML object>"
            ],
            "text/html": [
              "\n",
              "    <div>\n",
              "      \n",
              "      <progress value='198' max='105' style='width:300px; height:20px; vertical-align: middle;'></progress>\n",
              "      [105/105 00:16]\n",
              "    </div>\n",
              "    "
            ]
          },
          "metadata": {}
        },
        {
          "output_type": "stream",
          "name": "stderr",
          "text": [
            "Some weights of the model checkpoint at xlm-roberta-base were not used when initializing XLMRobertaForTokenClassification: ['lm_head.layer_norm.weight', 'lm_head.dense.bias', 'lm_head.layer_norm.bias', 'lm_head.decoder.weight', 'lm_head.bias', 'lm_head.dense.weight']\n",
            "- This IS expected if you are initializing XLMRobertaForTokenClassification from the checkpoint of a model trained on another task or with another architecture (e.g. initializing a BertForSequenceClassification model from a BertForPreTraining model).\n",
            "- This IS NOT expected if you are initializing XLMRobertaForTokenClassification from the checkpoint of a model that you expect to be exactly identical (initializing a BertForSequenceClassification model from a BertForSequenceClassification model).\n",
            "Some weights of XLMRobertaForTokenClassification were not initialized from the model checkpoint at xlm-roberta-base and are newly initialized: ['classifier.bias', 'classifier.weight']\n",
            "You should probably TRAIN this model on a down-stream task to be able to use it for predictions and inference.\n"
          ]
        },
        {
          "output_type": "stream",
          "name": "stdout",
          "text": [
            "Training Model: xlm-roberta-base\n"
          ]
        },
        {
          "output_type": "stream",
          "name": "stderr",
          "text": [
            "You're using a XLMRobertaTokenizerFast tokenizer. Please note that with a fast tokenizer, using the `__call__` method is faster than using a method to encode the text followed by a call to the `pad` method to get a padded encoding.\n"
          ]
        },
        {
          "output_type": "display_data",
          "data": {
            "text/plain": [
              "<IPython.core.display.HTML object>"
            ],
            "text/html": [
              "\n",
              "    <div>\n",
              "      \n",
              "      <progress value='525' max='525' style='width:300px; height:20px; vertical-align: middle;'></progress>\n",
              "      [525/525 03:15, Epoch 5/5]\n",
              "    </div>\n",
              "    <table border=\"1\" class=\"dataframe\">\n",
              "  <thead>\n",
              " <tr style=\"text-align: left;\">\n",
              "      <th>Epoch</th>\n",
              "      <th>Training Loss</th>\n",
              "      <th>Validation Loss</th>\n",
              "      <th>Val Precision</th>\n",
              "      <th>Val Recall</th>\n",
              "      <th>Val F1</th>\n",
              "      <th>Val Accuracy</th>\n",
              "    </tr>\n",
              "  </thead>\n",
              "  <tbody>\n",
              "    <tr>\n",
              "      <td>1</td>\n",
              "      <td>0.565100</td>\n",
              "      <td>0.309245</td>\n",
              "      <td>0.240418</td>\n",
              "      <td>0.162736</td>\n",
              "      <td>0.194093</td>\n",
              "      <td>0.905373</td>\n",
              "    </tr>\n",
              "    <tr>\n",
              "      <td>2</td>\n",
              "      <td>0.296800</td>\n",
              "      <td>0.257547</td>\n",
              "      <td>0.395954</td>\n",
              "      <td>0.323113</td>\n",
              "      <td>0.355844</td>\n",
              "      <td>0.920064</td>\n",
              "    </tr>\n",
              "    <tr>\n",
              "      <td>3</td>\n",
              "      <td>0.235900</td>\n",
              "      <td>0.221282</td>\n",
              "      <td>0.410448</td>\n",
              "      <td>0.389151</td>\n",
              "      <td>0.399516</td>\n",
              "      <td>0.927872</td>\n",
              "    </tr>\n",
              "    <tr>\n",
              "      <td>4</td>\n",
              "      <td>0.207400</td>\n",
              "      <td>0.220781</td>\n",
              "      <td>0.385928</td>\n",
              "      <td>0.426887</td>\n",
              "      <td>0.405375</td>\n",
              "      <td>0.921652</td>\n",
              "    </tr>\n",
              "    <tr>\n",
              "      <td>5</td>\n",
              "      <td>0.181500</td>\n",
              "      <td>0.215085</td>\n",
              "      <td>0.396341</td>\n",
              "      <td>0.459906</td>\n",
              "      <td>0.425764</td>\n",
              "      <td>0.925093</td>\n",
              "    </tr>\n",
              "  </tbody>\n",
              "</table><p>"
            ]
          },
          "metadata": {}
        },
        {
          "output_type": "display_data",
          "data": {
            "text/plain": [
              "<IPython.core.display.HTML object>"
            ],
            "text/html": [
              "\n",
              "    <div>\n",
              "      \n",
              "      <progress value='198' max='105' style='width:300px; height:20px; vertical-align: middle;'></progress>\n",
              "      [105/105 00:18]\n",
              "    </div>\n",
              "    "
            ]
          },
          "metadata": {}
        },
        {
          "output_type": "stream",
          "name": "stdout",
          "text": [
            "Processing Fold: 9\n"
          ]
        },
        {
          "output_type": "stream",
          "name": "stderr",
          "text": [
            "Some weights of the model checkpoint at bert-base-multilingual-cased were not used when initializing BertForTokenClassification: ['cls.predictions.decoder.weight', 'cls.predictions.transform.dense.weight', 'cls.predictions.transform.LayerNorm.weight', 'cls.seq_relationship.bias', 'cls.predictions.bias', 'cls.predictions.transform.LayerNorm.bias', 'cls.seq_relationship.weight', 'cls.predictions.transform.dense.bias']\n",
            "- This IS expected if you are initializing BertForTokenClassification from the checkpoint of a model trained on another task or with another architecture (e.g. initializing a BertForSequenceClassification model from a BertForPreTraining model).\n",
            "- This IS NOT expected if you are initializing BertForTokenClassification from the checkpoint of a model that you expect to be exactly identical (initializing a BertForSequenceClassification model from a BertForSequenceClassification model).\n",
            "Some weights of BertForTokenClassification were not initialized from the model checkpoint at bert-base-multilingual-cased and are newly initialized: ['classifier.bias', 'classifier.weight']\n",
            "You should probably TRAIN this model on a down-stream task to be able to use it for predictions and inference.\n"
          ]
        },
        {
          "output_type": "stream",
          "name": "stdout",
          "text": [
            "Training Model: bert-base-multilingual-cased\n"
          ]
        },
        {
          "output_type": "stream",
          "name": "stderr",
          "text": [
            "You're using a BertTokenizerFast tokenizer. Please note that with a fast tokenizer, using the `__call__` method is faster than using a method to encode the text followed by a call to the `pad` method to get a padded encoding.\n"
          ]
        },
        {
          "output_type": "display_data",
          "data": {
            "text/plain": [
              "<IPython.core.display.HTML object>"
            ],
            "text/html": [
              "\n",
              "    <div>\n",
              "      \n",
              "      <progress value='315' max='315' style='width:300px; height:20px; vertical-align: middle;'></progress>\n",
              "      [315/315 01:34, Epoch 3/3]\n",
              "    </div>\n",
              "    <table border=\"1\" class=\"dataframe\">\n",
              "  <thead>\n",
              " <tr style=\"text-align: left;\">\n",
              "      <th>Epoch</th>\n",
              "      <th>Training Loss</th>\n",
              "      <th>Validation Loss</th>\n",
              "      <th>Val Precision</th>\n",
              "      <th>Val Recall</th>\n",
              "      <th>Val F1</th>\n",
              "      <th>Val Accuracy</th>\n",
              "    </tr>\n",
              "  </thead>\n",
              "  <tbody>\n",
              "    <tr>\n",
              "      <td>1</td>\n",
              "      <td>0.403800</td>\n",
              "      <td>0.279577</td>\n",
              "      <td>0.269663</td>\n",
              "      <td>0.270270</td>\n",
              "      <td>0.269966</td>\n",
              "      <td>0.906862</td>\n",
              "    </tr>\n",
              "    <tr>\n",
              "      <td>2</td>\n",
              "      <td>0.228400</td>\n",
              "      <td>0.235731</td>\n",
              "      <td>0.371698</td>\n",
              "      <td>0.443694</td>\n",
              "      <td>0.404517</td>\n",
              "      <td>0.916721</td>\n",
              "    </tr>\n",
              "    <tr>\n",
              "      <td>3</td>\n",
              "      <td>0.181100</td>\n",
              "      <td>0.230587</td>\n",
              "      <td>0.396728</td>\n",
              "      <td>0.436937</td>\n",
              "      <td>0.415863</td>\n",
              "      <td>0.920483</td>\n",
              "    </tr>\n",
              "  </tbody>\n",
              "</table><p>"
            ]
          },
          "metadata": {}
        },
        {
          "output_type": "display_data",
          "data": {
            "text/plain": [
              "<IPython.core.display.HTML object>"
            ],
            "text/html": [
              "\n",
              "    <div>\n",
              "      \n",
              "      <progress value='198' max='105' style='width:300px; height:20px; vertical-align: middle;'></progress>\n",
              "      [105/105 00:16]\n",
              "    </div>\n",
              "    "
            ]
          },
          "metadata": {}
        },
        {
          "output_type": "stream",
          "name": "stderr",
          "text": [
            "Some weights of the model checkpoint at xlm-roberta-base were not used when initializing XLMRobertaForTokenClassification: ['lm_head.layer_norm.weight', 'lm_head.dense.bias', 'lm_head.layer_norm.bias', 'lm_head.decoder.weight', 'lm_head.bias', 'lm_head.dense.weight']\n",
            "- This IS expected if you are initializing XLMRobertaForTokenClassification from the checkpoint of a model trained on another task or with another architecture (e.g. initializing a BertForSequenceClassification model from a BertForPreTraining model).\n",
            "- This IS NOT expected if you are initializing XLMRobertaForTokenClassification from the checkpoint of a model that you expect to be exactly identical (initializing a BertForSequenceClassification model from a BertForSequenceClassification model).\n",
            "Some weights of XLMRobertaForTokenClassification were not initialized from the model checkpoint at xlm-roberta-base and are newly initialized: ['classifier.bias', 'classifier.weight']\n",
            "You should probably TRAIN this model on a down-stream task to be able to use it for predictions and inference.\n"
          ]
        },
        {
          "output_type": "stream",
          "name": "stdout",
          "text": [
            "Training Model: xlm-roberta-base\n"
          ]
        },
        {
          "output_type": "stream",
          "name": "stderr",
          "text": [
            "You're using a XLMRobertaTokenizerFast tokenizer. Please note that with a fast tokenizer, using the `__call__` method is faster than using a method to encode the text followed by a call to the `pad` method to get a padded encoding.\n"
          ]
        },
        {
          "output_type": "display_data",
          "data": {
            "text/plain": [
              "<IPython.core.display.HTML object>"
            ],
            "text/html": [
              "\n",
              "    <div>\n",
              "      \n",
              "      <progress value='525' max='525' style='width:300px; height:20px; vertical-align: middle;'></progress>\n",
              "      [525/525 03:16, Epoch 5/5]\n",
              "    </div>\n",
              "    <table border=\"1\" class=\"dataframe\">\n",
              "  <thead>\n",
              " <tr style=\"text-align: left;\">\n",
              "      <th>Epoch</th>\n",
              "      <th>Training Loss</th>\n",
              "      <th>Validation Loss</th>\n",
              "      <th>Val Precision</th>\n",
              "      <th>Val Recall</th>\n",
              "      <th>Val F1</th>\n",
              "      <th>Val Accuracy</th>\n",
              "    </tr>\n",
              "  </thead>\n",
              "  <tbody>\n",
              "    <tr>\n",
              "      <td>1</td>\n",
              "      <td>0.522300</td>\n",
              "      <td>0.333502</td>\n",
              "      <td>0.219672</td>\n",
              "      <td>0.301802</td>\n",
              "      <td>0.254269</td>\n",
              "      <td>0.891928</td>\n",
              "    </tr>\n",
              "    <tr>\n",
              "      <td>2</td>\n",
              "      <td>0.280700</td>\n",
              "      <td>0.236416</td>\n",
              "      <td>0.374449</td>\n",
              "      <td>0.382883</td>\n",
              "      <td>0.378619</td>\n",
              "      <td>0.918745</td>\n",
              "    </tr>\n",
              "    <tr>\n",
              "      <td>3</td>\n",
              "      <td>0.221200</td>\n",
              "      <td>0.238444</td>\n",
              "      <td>0.391986</td>\n",
              "      <td>0.506757</td>\n",
              "      <td>0.442043</td>\n",
              "      <td>0.909091</td>\n",
              "    </tr>\n",
              "    <tr>\n",
              "      <td>4</td>\n",
              "      <td>0.190300</td>\n",
              "      <td>0.216785</td>\n",
              "      <td>0.420857</td>\n",
              "      <td>0.509009</td>\n",
              "      <td>0.460754</td>\n",
              "      <td>0.922231</td>\n",
              "    </tr>\n",
              "    <tr>\n",
              "      <td>5</td>\n",
              "      <td>0.169600</td>\n",
              "      <td>0.217919</td>\n",
              "      <td>0.478000</td>\n",
              "      <td>0.538288</td>\n",
              "      <td>0.506356</td>\n",
              "      <td>0.927997</td>\n",
              "    </tr>\n",
              "  </tbody>\n",
              "</table><p>"
            ]
          },
          "metadata": {}
        },
        {
          "output_type": "display_data",
          "data": {
            "text/plain": [
              "<IPython.core.display.HTML object>"
            ],
            "text/html": [
              "\n",
              "    <div>\n",
              "      \n",
              "      <progress value='198' max='105' style='width:300px; height:20px; vertical-align: middle;'></progress>\n",
              "      [105/105 00:18]\n",
              "    </div>\n",
              "    "
            ]
          },
          "metadata": {}
        },
        {
          "output_type": "stream",
          "name": "stdout",
          "text": [
            "Processing Fold: 10\n"
          ]
        },
        {
          "output_type": "stream",
          "name": "stderr",
          "text": [
            "Some weights of the model checkpoint at bert-base-multilingual-cased were not used when initializing BertForTokenClassification: ['cls.predictions.decoder.weight', 'cls.predictions.transform.dense.weight', 'cls.predictions.transform.LayerNorm.weight', 'cls.seq_relationship.bias', 'cls.predictions.bias', 'cls.predictions.transform.LayerNorm.bias', 'cls.seq_relationship.weight', 'cls.predictions.transform.dense.bias']\n",
            "- This IS expected if you are initializing BertForTokenClassification from the checkpoint of a model trained on another task or with another architecture (e.g. initializing a BertForSequenceClassification model from a BertForPreTraining model).\n",
            "- This IS NOT expected if you are initializing BertForTokenClassification from the checkpoint of a model that you expect to be exactly identical (initializing a BertForSequenceClassification model from a BertForSequenceClassification model).\n",
            "Some weights of BertForTokenClassification were not initialized from the model checkpoint at bert-base-multilingual-cased and are newly initialized: ['classifier.bias', 'classifier.weight']\n",
            "You should probably TRAIN this model on a down-stream task to be able to use it for predictions and inference.\n"
          ]
        },
        {
          "output_type": "stream",
          "name": "stdout",
          "text": [
            "Training Model: bert-base-multilingual-cased\n"
          ]
        },
        {
          "output_type": "stream",
          "name": "stderr",
          "text": [
            "You're using a BertTokenizerFast tokenizer. Please note that with a fast tokenizer, using the `__call__` method is faster than using a method to encode the text followed by a call to the `pad` method to get a padded encoding.\n"
          ]
        },
        {
          "output_type": "display_data",
          "data": {
            "text/plain": [
              "<IPython.core.display.HTML object>"
            ],
            "text/html": [
              "\n",
              "    <div>\n",
              "      \n",
              "      <progress value='315' max='315' style='width:300px; height:20px; vertical-align: middle;'></progress>\n",
              "      [315/315 01:34, Epoch 3/3]\n",
              "    </div>\n",
              "    <table border=\"1\" class=\"dataframe\">\n",
              "  <thead>\n",
              " <tr style=\"text-align: left;\">\n",
              "      <th>Epoch</th>\n",
              "      <th>Training Loss</th>\n",
              "      <th>Validation Loss</th>\n",
              "      <th>Val Precision</th>\n",
              "      <th>Val Recall</th>\n",
              "      <th>Val F1</th>\n",
              "      <th>Val Accuracy</th>\n",
              "    </tr>\n",
              "  </thead>\n",
              "  <tbody>\n",
              "    <tr>\n",
              "      <td>1</td>\n",
              "      <td>0.382100</td>\n",
              "      <td>0.279664</td>\n",
              "      <td>0.344130</td>\n",
              "      <td>0.401891</td>\n",
              "      <td>0.370774</td>\n",
              "      <td>0.905443</td>\n",
              "    </tr>\n",
              "    <tr>\n",
              "      <td>2</td>\n",
              "      <td>0.213700</td>\n",
              "      <td>0.256303</td>\n",
              "      <td>0.417515</td>\n",
              "      <td>0.484634</td>\n",
              "      <td>0.448578</td>\n",
              "      <td>0.911462</td>\n",
              "    </tr>\n",
              "    <tr>\n",
              "      <td>3</td>\n",
              "      <td>0.158800</td>\n",
              "      <td>0.269252</td>\n",
              "      <td>0.411765</td>\n",
              "      <td>0.479905</td>\n",
              "      <td>0.443231</td>\n",
              "      <td>0.915474</td>\n",
              "    </tr>\n",
              "  </tbody>\n",
              "</table><p>"
            ]
          },
          "metadata": {}
        },
        {
          "output_type": "display_data",
          "data": {
            "text/plain": [
              "<IPython.core.display.HTML object>"
            ],
            "text/html": [
              "\n",
              "    <div>\n",
              "      \n",
              "      <progress value='198' max='105' style='width:300px; height:20px; vertical-align: middle;'></progress>\n",
              "      [105/105 00:16]\n",
              "    </div>\n",
              "    "
            ]
          },
          "metadata": {}
        },
        {
          "output_type": "stream",
          "name": "stderr",
          "text": [
            "Some weights of the model checkpoint at xlm-roberta-base were not used when initializing XLMRobertaForTokenClassification: ['lm_head.layer_norm.weight', 'lm_head.dense.bias', 'lm_head.layer_norm.bias', 'lm_head.decoder.weight', 'lm_head.bias', 'lm_head.dense.weight']\n",
            "- This IS expected if you are initializing XLMRobertaForTokenClassification from the checkpoint of a model trained on another task or with another architecture (e.g. initializing a BertForSequenceClassification model from a BertForPreTraining model).\n",
            "- This IS NOT expected if you are initializing XLMRobertaForTokenClassification from the checkpoint of a model that you expect to be exactly identical (initializing a BertForSequenceClassification model from a BertForSequenceClassification model).\n",
            "Some weights of XLMRobertaForTokenClassification were not initialized from the model checkpoint at xlm-roberta-base and are newly initialized: ['classifier.bias', 'classifier.weight']\n",
            "You should probably TRAIN this model on a down-stream task to be able to use it for predictions and inference.\n"
          ]
        },
        {
          "output_type": "stream",
          "name": "stdout",
          "text": [
            "Training Model: xlm-roberta-base\n"
          ]
        },
        {
          "output_type": "stream",
          "name": "stderr",
          "text": [
            "You're using a XLMRobertaTokenizerFast tokenizer. Please note that with a fast tokenizer, using the `__call__` method is faster than using a method to encode the text followed by a call to the `pad` method to get a padded encoding.\n"
          ]
        },
        {
          "output_type": "display_data",
          "data": {
            "text/plain": [
              "<IPython.core.display.HTML object>"
            ],
            "text/html": [
              "\n",
              "    <div>\n",
              "      \n",
              "      <progress value='525' max='525' style='width:300px; height:20px; vertical-align: middle;'></progress>\n",
              "      [525/525 03:22, Epoch 5/5]\n",
              "    </div>\n",
              "    <table border=\"1\" class=\"dataframe\">\n",
              "  <thead>\n",
              " <tr style=\"text-align: left;\">\n",
              "      <th>Epoch</th>\n",
              "      <th>Training Loss</th>\n",
              "      <th>Validation Loss</th>\n",
              "      <th>Val Precision</th>\n",
              "      <th>Val Recall</th>\n",
              "      <th>Val F1</th>\n",
              "      <th>Val Accuracy</th>\n",
              "    </tr>\n",
              "  </thead>\n",
              "  <tbody>\n",
              "    <tr>\n",
              "      <td>1</td>\n",
              "      <td>0.556600</td>\n",
              "      <td>0.347433</td>\n",
              "      <td>0.245714</td>\n",
              "      <td>0.101655</td>\n",
              "      <td>0.143813</td>\n",
              "      <td>0.886811</td>\n",
              "    </tr>\n",
              "    <tr>\n",
              "      <td>2</td>\n",
              "      <td>0.295200</td>\n",
              "      <td>0.282044</td>\n",
              "      <td>0.328889</td>\n",
              "      <td>0.349882</td>\n",
              "      <td>0.339061</td>\n",
              "      <td>0.907746</td>\n",
              "    </tr>\n",
              "    <tr>\n",
              "      <td>3</td>\n",
              "      <td>0.230600</td>\n",
              "      <td>0.260482</td>\n",
              "      <td>0.400415</td>\n",
              "      <td>0.456265</td>\n",
              "      <td>0.426519</td>\n",
              "      <td>0.914585</td>\n",
              "    </tr>\n",
              "    <tr>\n",
              "      <td>4</td>\n",
              "      <td>0.199400</td>\n",
              "      <td>0.257688</td>\n",
              "      <td>0.414079</td>\n",
              "      <td>0.472813</td>\n",
              "      <td>0.441501</td>\n",
              "      <td>0.913189</td>\n",
              "    </tr>\n",
              "    <tr>\n",
              "      <td>5</td>\n",
              "      <td>0.180200</td>\n",
              "      <td>0.260560</td>\n",
              "      <td>0.445652</td>\n",
              "      <td>0.484634</td>\n",
              "      <td>0.464326</td>\n",
              "      <td>0.920726</td>\n",
              "    </tr>\n",
              "  </tbody>\n",
              "</table><p>"
            ]
          },
          "metadata": {}
        },
        {
          "output_type": "display_data",
          "data": {
            "text/plain": [
              "<IPython.core.display.HTML object>"
            ],
            "text/html": [
              "\n",
              "    <div>\n",
              "      \n",
              "      <progress value='198' max='105' style='width:300px; height:20px; vertical-align: middle;'></progress>\n",
              "      [105/105 00:18]\n",
              "    </div>\n",
              "    "
            ]
          },
          "metadata": {}
        }
      ]
    },
    {
      "cell_type": "code",
      "source": [
        "results_df"
      ],
      "metadata": {
        "colab": {
          "base_uri": "https://localhost:8080/",
          "height": 1000
        },
        "id": "DqOnYQs5sYXA",
        "outputId": "1d610024-1577-4aa5-8840-c2c4b65ca301"
      },
      "execution_count": null,
      "outputs": [
        {
          "output_type": "execute_result",
          "data": {
            "text/plain": [
              "                           Model Fold  train_eval_val_precision  \\\n",
              "0   bert-base-multilingual-cased    1                  0.519200   \n",
              "1               xlm-roberta-base    1                  0.466699   \n",
              "2   bert-base-multilingual-cased    2                  0.551779   \n",
              "3               xlm-roberta-base    2                  0.536327   \n",
              "4   bert-base-multilingual-cased    3                  0.461500   \n",
              "5               xlm-roberta-base    3                  0.401532   \n",
              "6   bert-base-multilingual-cased    4                  0.463158   \n",
              "7               xlm-roberta-base    4                  0.501693   \n",
              "8   bert-base-multilingual-cased    5                  0.489589   \n",
              "9               xlm-roberta-base    5                  0.541466   \n",
              "10  bert-base-multilingual-cased    6                  0.446482   \n",
              "11              xlm-roberta-base    6                  0.528187   \n",
              "12  bert-base-multilingual-cased    7                  0.521134   \n",
              "13              xlm-roberta-base    7                  0.441267   \n",
              "14  bert-base-multilingual-cased    8                  0.570785   \n",
              "15              xlm-roberta-base    8                  0.512665   \n",
              "16  bert-base-multilingual-cased    9                  0.485071   \n",
              "17              xlm-roberta-base    9                  0.518537   \n",
              "18  bert-base-multilingual-cased   10                  0.530987   \n",
              "19              xlm-roberta-base   10                  0.517454   \n",
              "\n",
              "    train_eval_val_recall  train_eval_val_f1  train_eval_val_accuracy  \\\n",
              "0                0.563678           0.540526                 0.946461   \n",
              "1                0.552256           0.505885                 0.937758   \n",
              "2                0.595757           0.572925                 0.954487   \n",
              "3                0.609518           0.570585                 0.947636   \n",
              "4                0.524600           0.491031                 0.946261   \n",
              "5                0.419908           0.410515                 0.929009   \n",
              "6                0.521445           0.490576                 0.943692   \n",
              "7                0.585214           0.540245                 0.943252   \n",
              "8                0.523103           0.505792                 0.947896   \n",
              "9                0.577296           0.558807                 0.949915   \n",
              "10               0.515446           0.478492                 0.939292   \n",
              "11               0.594966           0.559591                 0.948245   \n",
              "12               0.561383           0.540511                 0.949178   \n",
              "13               0.497983           0.467912                 0.937850   \n",
              "14               0.645362           0.605787                 0.955338   \n",
              "15               0.572398           0.540887                 0.946146   \n",
              "16               0.529748           0.506426                 0.944943   \n",
              "17               0.600114           0.556351                 0.950249   \n",
              "18               0.605427           0.565769                 0.955124   \n",
              "19               0.569813           0.542373                 0.949124   \n",
              "\n",
              "    val_eval_val_precision  val_eval_val_recall  val_eval_val_f1  \\\n",
              "0                 0.476091             0.519274         0.496746   \n",
              "1                 0.439689             0.512472         0.473298   \n",
              "2                 0.426339             0.426339         0.426339   \n",
              "3                 0.416016             0.475446         0.443750   \n",
              "4                 0.384306             0.430180         0.405951   \n",
              "5                 0.351406             0.394144         0.371550   \n",
              "6                 0.411017             0.461905         0.434978   \n",
              "7                 0.484000             0.576190         0.526087   \n",
              "8                 0.352227             0.396355         0.372990   \n",
              "9                 0.431290             0.464692         0.447368   \n",
              "10                0.380414             0.454955         0.414359   \n",
              "11                0.463320             0.540541         0.498960   \n",
              "12                0.400802             0.437637         0.418410   \n",
              "13                0.369231             0.420131         0.393040   \n",
              "14                0.455670             0.521226         0.486249   \n",
              "15                0.396341             0.459906         0.425764   \n",
              "16                0.396728             0.436937         0.415863   \n",
              "17                0.478000             0.538288         0.506356   \n",
              "18                0.411765             0.479905         0.443231   \n",
              "19                0.445652             0.484634         0.464326   \n",
              "\n",
              "    val_eval_val_accuracy  test_eval_val_precision  test_eval_val_recall  \\\n",
              "0                0.931623                 0.430746              0.457929   \n",
              "1                0.925320                 0.444751              0.521880   \n",
              "2                0.927071                 0.424051              0.433657   \n",
              "3                0.918792                 0.470752              0.547812   \n",
              "4                0.914551                 0.477930              0.508091   \n",
              "5                0.911952                 0.388179              0.393841   \n",
              "6                0.929576                 0.434655              0.478964   \n",
              "7                0.934698                 0.475275              0.560778   \n",
              "8                0.916449                 0.464169              0.461165   \n",
              "9                0.922917                 0.456884              0.489465   \n",
              "10               0.927477                 0.434846              0.480583   \n",
              "11               0.932914                 0.475248              0.544571   \n",
              "12               0.924465                 0.457576              0.488673   \n",
              "13               0.915137                 0.447330              0.502431   \n",
              "14               0.934362                 0.500724              0.559871   \n",
              "15               0.925093                 0.446809              0.510535   \n",
              "16               0.920483                 0.478593              0.506472   \n",
              "17               0.927997                 0.484195              0.546191   \n",
              "18               0.915474                 0.481089              0.514563   \n",
              "19               0.920726                 0.453149              0.478120   \n",
              "\n",
              "    test_eval_val_f1  test_eval_val_accuracy  dutch_test_eval_val_precision  \\\n",
              "0           0.443922                0.918426                       0.223762   \n",
              "1           0.480239                0.921723                       0.205674   \n",
              "2           0.428800                0.919674                       0.195426   \n",
              "3           0.506367                0.920918                       0.242588   \n",
              "4           0.492549                0.925048                       0.189781   \n",
              "5           0.390990                0.911259                       0.182836   \n",
              "6           0.455735                0.917658                       0.186090   \n",
              "7           0.514498                0.923332                       0.264789   \n",
              "8           0.462662                0.922169                       0.165323   \n",
              "9           0.472613                0.924137                       0.180328   \n",
              "10          0.456572                0.921689                       0.183971   \n",
              "11          0.507553                0.924137                       0.224299   \n",
              "12          0.472613                0.925048                       0.239316   \n",
              "13          0.473282                0.919911                       0.234201   \n",
              "14          0.528648                0.926008                       0.202109   \n",
              "15          0.476551                0.921622                       0.217184   \n",
              "16          0.492138                0.925048                       0.215649   \n",
              "17          0.513328                0.925043                       0.239691   \n",
              "18          0.497263                0.922073                       0.187156   \n",
              "19          0.465300                0.922024                       0.196653   \n",
              "\n",
              "    dutch_test_eval_val_recall  dutch_test_eval_val_f1  \\\n",
              "0                     0.302949                0.257403   \n",
              "1                     0.155496                0.177099   \n",
              "2                     0.252011                0.220141   \n",
              "3                     0.241287                0.241935   \n",
              "4                     0.278820                0.225841   \n",
              "5                     0.131367                0.152886   \n",
              "6                     0.265416                0.218785   \n",
              "7                     0.252011                0.258242   \n",
              "8                     0.219839                0.188723   \n",
              "9                     0.147453                0.162242   \n",
              "10                    0.270777                0.219089   \n",
              "11                    0.193029                0.207493   \n",
              "12                    0.300268                0.266350   \n",
              "13                    0.168901                0.196262   \n",
              "14                    0.308311                0.244161   \n",
              "15                    0.243968                0.229798   \n",
              "16                    0.302949                0.251951   \n",
              "17                    0.249330                0.244415   \n",
              "18                    0.273458                0.222222   \n",
              "19                    0.126005                0.153595   \n",
              "\n",
              "    dutch_test_eval_val_accuracy  \n",
              "0                       0.878996  \n",
              "1                       0.902305  \n",
              "2                       0.885768  \n",
              "3                       0.894366  \n",
              "4                       0.868894  \n",
              "5                       0.898592  \n",
              "6                       0.875222  \n",
              "7                       0.902433  \n",
              "8                       0.881106  \n",
              "9                       0.897951  \n",
              "10                      0.875777  \n",
              "11                      0.903073  \n",
              "12                      0.886101  \n",
              "13                      0.907042  \n",
              "14                      0.885546  \n",
              "15                      0.881690  \n",
              "16                      0.872447  \n",
              "17                      0.894878  \n",
              "18                      0.887988  \n",
              "19                      0.907554  "
            ],
            "text/html": [
              "\n",
              "  <div id=\"df-86350c04-df25-4c47-8ca7-8eb7b4365f0b\">\n",
              "    <div class=\"colab-df-container\">\n",
              "      <div>\n",
              "<style scoped>\n",
              "    .dataframe tbody tr th:only-of-type {\n",
              "        vertical-align: middle;\n",
              "    }\n",
              "\n",
              "    .dataframe tbody tr th {\n",
              "        vertical-align: top;\n",
              "    }\n",
              "\n",
              "    .dataframe thead th {\n",
              "        text-align: right;\n",
              "    }\n",
              "</style>\n",
              "<table border=\"1\" class=\"dataframe\">\n",
              "  <thead>\n",
              "    <tr style=\"text-align: right;\">\n",
              "      <th></th>\n",
              "      <th>Model</th>\n",
              "      <th>Fold</th>\n",
              "      <th>train_eval_val_precision</th>\n",
              "      <th>train_eval_val_recall</th>\n",
              "      <th>train_eval_val_f1</th>\n",
              "      <th>train_eval_val_accuracy</th>\n",
              "      <th>val_eval_val_precision</th>\n",
              "      <th>val_eval_val_recall</th>\n",
              "      <th>val_eval_val_f1</th>\n",
              "      <th>val_eval_val_accuracy</th>\n",
              "      <th>test_eval_val_precision</th>\n",
              "      <th>test_eval_val_recall</th>\n",
              "      <th>test_eval_val_f1</th>\n",
              "      <th>test_eval_val_accuracy</th>\n",
              "      <th>dutch_test_eval_val_precision</th>\n",
              "      <th>dutch_test_eval_val_recall</th>\n",
              "      <th>dutch_test_eval_val_f1</th>\n",
              "      <th>dutch_test_eval_val_accuracy</th>\n",
              "    </tr>\n",
              "  </thead>\n",
              "  <tbody>\n",
              "    <tr>\n",
              "      <th>0</th>\n",
              "      <td>bert-base-multilingual-cased</td>\n",
              "      <td>1</td>\n",
              "      <td>0.519200</td>\n",
              "      <td>0.563678</td>\n",
              "      <td>0.540526</td>\n",
              "      <td>0.946461</td>\n",
              "      <td>0.476091</td>\n",
              "      <td>0.519274</td>\n",
              "      <td>0.496746</td>\n",
              "      <td>0.931623</td>\n",
              "      <td>0.430746</td>\n",
              "      <td>0.457929</td>\n",
              "      <td>0.443922</td>\n",
              "      <td>0.918426</td>\n",
              "      <td>0.223762</td>\n",
              "      <td>0.302949</td>\n",
              "      <td>0.257403</td>\n",
              "      <td>0.878996</td>\n",
              "    </tr>\n",
              "    <tr>\n",
              "      <th>1</th>\n",
              "      <td>xlm-roberta-base</td>\n",
              "      <td>1</td>\n",
              "      <td>0.466699</td>\n",
              "      <td>0.552256</td>\n",
              "      <td>0.505885</td>\n",
              "      <td>0.937758</td>\n",
              "      <td>0.439689</td>\n",
              "      <td>0.512472</td>\n",
              "      <td>0.473298</td>\n",
              "      <td>0.925320</td>\n",
              "      <td>0.444751</td>\n",
              "      <td>0.521880</td>\n",
              "      <td>0.480239</td>\n",
              "      <td>0.921723</td>\n",
              "      <td>0.205674</td>\n",
              "      <td>0.155496</td>\n",
              "      <td>0.177099</td>\n",
              "      <td>0.902305</td>\n",
              "    </tr>\n",
              "    <tr>\n",
              "      <th>2</th>\n",
              "      <td>bert-base-multilingual-cased</td>\n",
              "      <td>2</td>\n",
              "      <td>0.551779</td>\n",
              "      <td>0.595757</td>\n",
              "      <td>0.572925</td>\n",
              "      <td>0.954487</td>\n",
              "      <td>0.426339</td>\n",
              "      <td>0.426339</td>\n",
              "      <td>0.426339</td>\n",
              "      <td>0.927071</td>\n",
              "      <td>0.424051</td>\n",
              "      <td>0.433657</td>\n",
              "      <td>0.428800</td>\n",
              "      <td>0.919674</td>\n",
              "      <td>0.195426</td>\n",
              "      <td>0.252011</td>\n",
              "      <td>0.220141</td>\n",
              "      <td>0.885768</td>\n",
              "    </tr>\n",
              "    <tr>\n",
              "      <th>3</th>\n",
              "      <td>xlm-roberta-base</td>\n",
              "      <td>2</td>\n",
              "      <td>0.536327</td>\n",
              "      <td>0.609518</td>\n",
              "      <td>0.570585</td>\n",
              "      <td>0.947636</td>\n",
              "      <td>0.416016</td>\n",
              "      <td>0.475446</td>\n",
              "      <td>0.443750</td>\n",
              "      <td>0.918792</td>\n",
              "      <td>0.470752</td>\n",
              "      <td>0.547812</td>\n",
              "      <td>0.506367</td>\n",
              "      <td>0.920918</td>\n",
              "      <td>0.242588</td>\n",
              "      <td>0.241287</td>\n",
              "      <td>0.241935</td>\n",
              "      <td>0.894366</td>\n",
              "    </tr>\n",
              "    <tr>\n",
              "      <th>4</th>\n",
              "      <td>bert-base-multilingual-cased</td>\n",
              "      <td>3</td>\n",
              "      <td>0.461500</td>\n",
              "      <td>0.524600</td>\n",
              "      <td>0.491031</td>\n",
              "      <td>0.946261</td>\n",
              "      <td>0.384306</td>\n",
              "      <td>0.430180</td>\n",
              "      <td>0.405951</td>\n",
              "      <td>0.914551</td>\n",
              "      <td>0.477930</td>\n",
              "      <td>0.508091</td>\n",
              "      <td>0.492549</td>\n",
              "      <td>0.925048</td>\n",
              "      <td>0.189781</td>\n",
              "      <td>0.278820</td>\n",
              "      <td>0.225841</td>\n",
              "      <td>0.868894</td>\n",
              "    </tr>\n",
              "    <tr>\n",
              "      <th>5</th>\n",
              "      <td>xlm-roberta-base</td>\n",
              "      <td>3</td>\n",
              "      <td>0.401532</td>\n",
              "      <td>0.419908</td>\n",
              "      <td>0.410515</td>\n",
              "      <td>0.929009</td>\n",
              "      <td>0.351406</td>\n",
              "      <td>0.394144</td>\n",
              "      <td>0.371550</td>\n",
              "      <td>0.911952</td>\n",
              "      <td>0.388179</td>\n",
              "      <td>0.393841</td>\n",
              "      <td>0.390990</td>\n",
              "      <td>0.911259</td>\n",
              "      <td>0.182836</td>\n",
              "      <td>0.131367</td>\n",
              "      <td>0.152886</td>\n",
              "      <td>0.898592</td>\n",
              "    </tr>\n",
              "    <tr>\n",
              "      <th>6</th>\n",
              "      <td>bert-base-multilingual-cased</td>\n",
              "      <td>4</td>\n",
              "      <td>0.463158</td>\n",
              "      <td>0.521445</td>\n",
              "      <td>0.490576</td>\n",
              "      <td>0.943692</td>\n",
              "      <td>0.411017</td>\n",
              "      <td>0.461905</td>\n",
              "      <td>0.434978</td>\n",
              "      <td>0.929576</td>\n",
              "      <td>0.434655</td>\n",
              "      <td>0.478964</td>\n",
              "      <td>0.455735</td>\n",
              "      <td>0.917658</td>\n",
              "      <td>0.186090</td>\n",
              "      <td>0.265416</td>\n",
              "      <td>0.218785</td>\n",
              "      <td>0.875222</td>\n",
              "    </tr>\n",
              "    <tr>\n",
              "      <th>7</th>\n",
              "      <td>xlm-roberta-base</td>\n",
              "      <td>4</td>\n",
              "      <td>0.501693</td>\n",
              "      <td>0.585214</td>\n",
              "      <td>0.540245</td>\n",
              "      <td>0.943252</td>\n",
              "      <td>0.484000</td>\n",
              "      <td>0.576190</td>\n",
              "      <td>0.526087</td>\n",
              "      <td>0.934698</td>\n",
              "      <td>0.475275</td>\n",
              "      <td>0.560778</td>\n",
              "      <td>0.514498</td>\n",
              "      <td>0.923332</td>\n",
              "      <td>0.264789</td>\n",
              "      <td>0.252011</td>\n",
              "      <td>0.258242</td>\n",
              "      <td>0.902433</td>\n",
              "    </tr>\n",
              "    <tr>\n",
              "      <th>8</th>\n",
              "      <td>bert-base-multilingual-cased</td>\n",
              "      <td>5</td>\n",
              "      <td>0.489589</td>\n",
              "      <td>0.523103</td>\n",
              "      <td>0.505792</td>\n",
              "      <td>0.947896</td>\n",
              "      <td>0.352227</td>\n",
              "      <td>0.396355</td>\n",
              "      <td>0.372990</td>\n",
              "      <td>0.916449</td>\n",
              "      <td>0.464169</td>\n",
              "      <td>0.461165</td>\n",
              "      <td>0.462662</td>\n",
              "      <td>0.922169</td>\n",
              "      <td>0.165323</td>\n",
              "      <td>0.219839</td>\n",
              "      <td>0.188723</td>\n",
              "      <td>0.881106</td>\n",
              "    </tr>\n",
              "    <tr>\n",
              "      <th>9</th>\n",
              "      <td>xlm-roberta-base</td>\n",
              "      <td>5</td>\n",
              "      <td>0.541466</td>\n",
              "      <td>0.577296</td>\n",
              "      <td>0.558807</td>\n",
              "      <td>0.949915</td>\n",
              "      <td>0.431290</td>\n",
              "      <td>0.464692</td>\n",
              "      <td>0.447368</td>\n",
              "      <td>0.922917</td>\n",
              "      <td>0.456884</td>\n",
              "      <td>0.489465</td>\n",
              "      <td>0.472613</td>\n",
              "      <td>0.924137</td>\n",
              "      <td>0.180328</td>\n",
              "      <td>0.147453</td>\n",
              "      <td>0.162242</td>\n",
              "      <td>0.897951</td>\n",
              "    </tr>\n",
              "    <tr>\n",
              "      <th>10</th>\n",
              "      <td>bert-base-multilingual-cased</td>\n",
              "      <td>6</td>\n",
              "      <td>0.446482</td>\n",
              "      <td>0.515446</td>\n",
              "      <td>0.478492</td>\n",
              "      <td>0.939292</td>\n",
              "      <td>0.380414</td>\n",
              "      <td>0.454955</td>\n",
              "      <td>0.414359</td>\n",
              "      <td>0.927477</td>\n",
              "      <td>0.434846</td>\n",
              "      <td>0.480583</td>\n",
              "      <td>0.456572</td>\n",
              "      <td>0.921689</td>\n",
              "      <td>0.183971</td>\n",
              "      <td>0.270777</td>\n",
              "      <td>0.219089</td>\n",
              "      <td>0.875777</td>\n",
              "    </tr>\n",
              "    <tr>\n",
              "      <th>11</th>\n",
              "      <td>xlm-roberta-base</td>\n",
              "      <td>6</td>\n",
              "      <td>0.528187</td>\n",
              "      <td>0.594966</td>\n",
              "      <td>0.559591</td>\n",
              "      <td>0.948245</td>\n",
              "      <td>0.463320</td>\n",
              "      <td>0.540541</td>\n",
              "      <td>0.498960</td>\n",
              "      <td>0.932914</td>\n",
              "      <td>0.475248</td>\n",
              "      <td>0.544571</td>\n",
              "      <td>0.507553</td>\n",
              "      <td>0.924137</td>\n",
              "      <td>0.224299</td>\n",
              "      <td>0.193029</td>\n",
              "      <td>0.207493</td>\n",
              "      <td>0.903073</td>\n",
              "    </tr>\n",
              "    <tr>\n",
              "      <th>12</th>\n",
              "      <td>bert-base-multilingual-cased</td>\n",
              "      <td>7</td>\n",
              "      <td>0.521134</td>\n",
              "      <td>0.561383</td>\n",
              "      <td>0.540511</td>\n",
              "      <td>0.949178</td>\n",
              "      <td>0.400802</td>\n",
              "      <td>0.437637</td>\n",
              "      <td>0.418410</td>\n",
              "      <td>0.924465</td>\n",
              "      <td>0.457576</td>\n",
              "      <td>0.488673</td>\n",
              "      <td>0.472613</td>\n",
              "      <td>0.925048</td>\n",
              "      <td>0.239316</td>\n",
              "      <td>0.300268</td>\n",
              "      <td>0.266350</td>\n",
              "      <td>0.886101</td>\n",
              "    </tr>\n",
              "    <tr>\n",
              "      <th>13</th>\n",
              "      <td>xlm-roberta-base</td>\n",
              "      <td>7</td>\n",
              "      <td>0.441267</td>\n",
              "      <td>0.497983</td>\n",
              "      <td>0.467912</td>\n",
              "      <td>0.937850</td>\n",
              "      <td>0.369231</td>\n",
              "      <td>0.420131</td>\n",
              "      <td>0.393040</td>\n",
              "      <td>0.915137</td>\n",
              "      <td>0.447330</td>\n",
              "      <td>0.502431</td>\n",
              "      <td>0.473282</td>\n",
              "      <td>0.919911</td>\n",
              "      <td>0.234201</td>\n",
              "      <td>0.168901</td>\n",
              "      <td>0.196262</td>\n",
              "      <td>0.907042</td>\n",
              "    </tr>\n",
              "    <tr>\n",
              "      <th>14</th>\n",
              "      <td>bert-base-multilingual-cased</td>\n",
              "      <td>8</td>\n",
              "      <td>0.570785</td>\n",
              "      <td>0.645362</td>\n",
              "      <td>0.605787</td>\n",
              "      <td>0.955338</td>\n",
              "      <td>0.455670</td>\n",
              "      <td>0.521226</td>\n",
              "      <td>0.486249</td>\n",
              "      <td>0.934362</td>\n",
              "      <td>0.500724</td>\n",
              "      <td>0.559871</td>\n",
              "      <td>0.528648</td>\n",
              "      <td>0.926008</td>\n",
              "      <td>0.202109</td>\n",
              "      <td>0.308311</td>\n",
              "      <td>0.244161</td>\n",
              "      <td>0.885546</td>\n",
              "    </tr>\n",
              "    <tr>\n",
              "      <th>15</th>\n",
              "      <td>xlm-roberta-base</td>\n",
              "      <td>8</td>\n",
              "      <td>0.512665</td>\n",
              "      <td>0.572398</td>\n",
              "      <td>0.540887</td>\n",
              "      <td>0.946146</td>\n",
              "      <td>0.396341</td>\n",
              "      <td>0.459906</td>\n",
              "      <td>0.425764</td>\n",
              "      <td>0.925093</td>\n",
              "      <td>0.446809</td>\n",
              "      <td>0.510535</td>\n",
              "      <td>0.476551</td>\n",
              "      <td>0.921622</td>\n",
              "      <td>0.217184</td>\n",
              "      <td>0.243968</td>\n",
              "      <td>0.229798</td>\n",
              "      <td>0.881690</td>\n",
              "    </tr>\n",
              "    <tr>\n",
              "      <th>16</th>\n",
              "      <td>bert-base-multilingual-cased</td>\n",
              "      <td>9</td>\n",
              "      <td>0.485071</td>\n",
              "      <td>0.529748</td>\n",
              "      <td>0.506426</td>\n",
              "      <td>0.944943</td>\n",
              "      <td>0.396728</td>\n",
              "      <td>0.436937</td>\n",
              "      <td>0.415863</td>\n",
              "      <td>0.920483</td>\n",
              "      <td>0.478593</td>\n",
              "      <td>0.506472</td>\n",
              "      <td>0.492138</td>\n",
              "      <td>0.925048</td>\n",
              "      <td>0.215649</td>\n",
              "      <td>0.302949</td>\n",
              "      <td>0.251951</td>\n",
              "      <td>0.872447</td>\n",
              "    </tr>\n",
              "    <tr>\n",
              "      <th>17</th>\n",
              "      <td>xlm-roberta-base</td>\n",
              "      <td>9</td>\n",
              "      <td>0.518537</td>\n",
              "      <td>0.600114</td>\n",
              "      <td>0.556351</td>\n",
              "      <td>0.950249</td>\n",
              "      <td>0.478000</td>\n",
              "      <td>0.538288</td>\n",
              "      <td>0.506356</td>\n",
              "      <td>0.927997</td>\n",
              "      <td>0.484195</td>\n",
              "      <td>0.546191</td>\n",
              "      <td>0.513328</td>\n",
              "      <td>0.925043</td>\n",
              "      <td>0.239691</td>\n",
              "      <td>0.249330</td>\n",
              "      <td>0.244415</td>\n",
              "      <td>0.894878</td>\n",
              "    </tr>\n",
              "    <tr>\n",
              "      <th>18</th>\n",
              "      <td>bert-base-multilingual-cased</td>\n",
              "      <td>10</td>\n",
              "      <td>0.530987</td>\n",
              "      <td>0.605427</td>\n",
              "      <td>0.565769</td>\n",
              "      <td>0.955124</td>\n",
              "      <td>0.411765</td>\n",
              "      <td>0.479905</td>\n",
              "      <td>0.443231</td>\n",
              "      <td>0.915474</td>\n",
              "      <td>0.481089</td>\n",
              "      <td>0.514563</td>\n",
              "      <td>0.497263</td>\n",
              "      <td>0.922073</td>\n",
              "      <td>0.187156</td>\n",
              "      <td>0.273458</td>\n",
              "      <td>0.222222</td>\n",
              "      <td>0.887988</td>\n",
              "    </tr>\n",
              "    <tr>\n",
              "      <th>19</th>\n",
              "      <td>xlm-roberta-base</td>\n",
              "      <td>10</td>\n",
              "      <td>0.517454</td>\n",
              "      <td>0.569813</td>\n",
              "      <td>0.542373</td>\n",
              "      <td>0.949124</td>\n",
              "      <td>0.445652</td>\n",
              "      <td>0.484634</td>\n",
              "      <td>0.464326</td>\n",
              "      <td>0.920726</td>\n",
              "      <td>0.453149</td>\n",
              "      <td>0.478120</td>\n",
              "      <td>0.465300</td>\n",
              "      <td>0.922024</td>\n",
              "      <td>0.196653</td>\n",
              "      <td>0.126005</td>\n",
              "      <td>0.153595</td>\n",
              "      <td>0.907554</td>\n",
              "    </tr>\n",
              "  </tbody>\n",
              "</table>\n",
              "</div>\n",
              "      <button class=\"colab-df-convert\" onclick=\"convertToInteractive('df-86350c04-df25-4c47-8ca7-8eb7b4365f0b')\"\n",
              "              title=\"Convert this dataframe to an interactive table.\"\n",
              "              style=\"display:none;\">\n",
              "        \n",
              "  <svg xmlns=\"http://www.w3.org/2000/svg\" height=\"24px\"viewBox=\"0 0 24 24\"\n",
              "       width=\"24px\">\n",
              "    <path d=\"M0 0h24v24H0V0z\" fill=\"none\"/>\n",
              "    <path d=\"M18.56 5.44l.94 2.06.94-2.06 2.06-.94-2.06-.94-.94-2.06-.94 2.06-2.06.94zm-11 1L8.5 8.5l.94-2.06 2.06-.94-2.06-.94L8.5 2.5l-.94 2.06-2.06.94zm10 10l.94 2.06.94-2.06 2.06-.94-2.06-.94-.94-2.06-.94 2.06-2.06.94z\"/><path d=\"M17.41 7.96l-1.37-1.37c-.4-.4-.92-.59-1.43-.59-.52 0-1.04.2-1.43.59L10.3 9.45l-7.72 7.72c-.78.78-.78 2.05 0 2.83L4 21.41c.39.39.9.59 1.41.59.51 0 1.02-.2 1.41-.59l7.78-7.78 2.81-2.81c.8-.78.8-2.07 0-2.86zM5.41 20L4 18.59l7.72-7.72 1.47 1.35L5.41 20z\"/>\n",
              "  </svg>\n",
              "      </button>\n",
              "      \n",
              "  <style>\n",
              "    .colab-df-container {\n",
              "      display:flex;\n",
              "      flex-wrap:wrap;\n",
              "      gap: 12px;\n",
              "    }\n",
              "\n",
              "    .colab-df-convert {\n",
              "      background-color: #E8F0FE;\n",
              "      border: none;\n",
              "      border-radius: 50%;\n",
              "      cursor: pointer;\n",
              "      display: none;\n",
              "      fill: #1967D2;\n",
              "      height: 32px;\n",
              "      padding: 0 0 0 0;\n",
              "      width: 32px;\n",
              "    }\n",
              "\n",
              "    .colab-df-convert:hover {\n",
              "      background-color: #E2EBFA;\n",
              "      box-shadow: 0px 1px 2px rgba(60, 64, 67, 0.3), 0px 1px 3px 1px rgba(60, 64, 67, 0.15);\n",
              "      fill: #174EA6;\n",
              "    }\n",
              "\n",
              "    [theme=dark] .colab-df-convert {\n",
              "      background-color: #3B4455;\n",
              "      fill: #D2E3FC;\n",
              "    }\n",
              "\n",
              "    [theme=dark] .colab-df-convert:hover {\n",
              "      background-color: #434B5C;\n",
              "      box-shadow: 0px 1px 3px 1px rgba(0, 0, 0, 0.15);\n",
              "      filter: drop-shadow(0px 1px 2px rgba(0, 0, 0, 0.3));\n",
              "      fill: #FFFFFF;\n",
              "    }\n",
              "  </style>\n",
              "\n",
              "      <script>\n",
              "        const buttonEl =\n",
              "          document.querySelector('#df-86350c04-df25-4c47-8ca7-8eb7b4365f0b button.colab-df-convert');\n",
              "        buttonEl.style.display =\n",
              "          google.colab.kernel.accessAllowed ? 'block' : 'none';\n",
              "\n",
              "        async function convertToInteractive(key) {\n",
              "          const element = document.querySelector('#df-86350c04-df25-4c47-8ca7-8eb7b4365f0b');\n",
              "          const dataTable =\n",
              "            await google.colab.kernel.invokeFunction('convertToInteractive',\n",
              "                                                     [key], {});\n",
              "          if (!dataTable) return;\n",
              "\n",
              "          const docLinkHtml = 'Like what you see? Visit the ' +\n",
              "            '<a target=\"_blank\" href=https://colab.research.google.com/notebooks/data_table.ipynb>data table notebook</a>'\n",
              "            + ' to learn more about interactive tables.';\n",
              "          element.innerHTML = '';\n",
              "          dataTable['output_type'] = 'display_data';\n",
              "          await google.colab.output.renderOutput(dataTable, element);\n",
              "          const docLink = document.createElement('div');\n",
              "          docLink.innerHTML = docLinkHtml;\n",
              "          element.appendChild(docLink);\n",
              "        }\n",
              "      </script>\n",
              "    </div>\n",
              "  </div>\n",
              "  "
            ]
          },
          "metadata": {},
          "execution_count": 33
        }
      ]
    },
    {
      "cell_type": "code",
      "source": [
        "# Create subplots with two columns\n",
        "fig, axes = plt.subplots(nrows=1, ncols=2, figsize=(12, 6))\n",
        "\n",
        "# Boxplot for Dutch test set evaluation\n",
        "sns.boxplot(x='Model', y='dutch_test_eval_val_f1', data=results_df, ax=axes[0])\n",
        "axes[0].set_xlabel(\"Model\")\n",
        "axes[0].set_ylabel('F1 Score')\n",
        "axes[0].set_title(f'Model transfer language {language}, evaluation Dutch test set')\n",
        "\n",
        "# Boxplot for language test set evaluation\n",
        "sns.boxplot(x='Model', y='test_eval_val_f1', data=results_df, ax=axes[1])\n",
        "axes[1].set_xlabel(\"Model\")\n",
        "axes[1].set_ylabel('F1 Score')\n",
        "axes[1].set_title(f'Transfer language {language}, evaluation {language} test set')\n",
        "\n",
        "# Adjust the spacing between subplots\n",
        "plt.tight_layout()\n",
        "plt.subplots_adjust(wspace=0.5)\n",
        "\n",
        "# Show the plot\n",
        "plt.show()\n"
      ],
      "metadata": {
        "colab": {
          "base_uri": "https://localhost:8080/",
          "height": 607
        },
        "id": "2LGElNUXkzvt",
        "outputId": "0b3e95df-8f71-42c8-9a5a-d111e5a839fa"
      },
      "execution_count": null,
      "outputs": [
        {
          "output_type": "display_data",
          "data": {
            "text/plain": [
              "<Figure size 1200x600 with 2 Axes>"
            ],
            "image/png": "[encoded data removed]"
          },
          "metadata": {}
        }
      ]
    },
    {
      "cell_type": "code",
      "source": [
        "import matplotlib.pyplot as plt\n",
        "import seaborn as sns\n",
        "\n",
        "# Create a box and whisker plot for each model\n",
        "plt.figure(figsize=(10, 6))\n",
        "sns.boxplot(x='Model', y='dutch_test_eval_val_f1', data=results_df)\n",
        "plt.xlabel(\"Model\")\n",
        "plt.ylabel('F1 Score')\n",
        "plt.title(f'Model transfer language {language}, evaluation dutch test set')\n",
        "\n",
        "# Show the plot\n",
        "plt.show()\n",
        "\n",
        "# Create a box and whisker plot for each model\n",
        "plt.figure(figsize=(10, 6))\n",
        "sns.boxplot(x='Model', y='test_eval_val_f1', data=results_df)\n",
        "plt.xlabel(\"Model\")\n",
        "plt.ylabel('F1 Score')\n",
        "plt.title(f'Transfer language {language}, evaluation {language} test set')\n",
        "# Show the plot\n",
        "plt.show()\n"
      ],
      "metadata": {
        "colab": {
          "base_uri": "https://localhost:8080/",
          "height": 1000
        },
        "id": "dlXpmWZo-MBE",
        "outputId": "4b2fe0be-aff5-42bd-dda7-d52066e2ffb1"
      },
      "execution_count": null,
      "outputs": [
        {
          "output_type": "display_data",
          "data": {
            "text/plain": [
              "<Figure size 1000x600 with 1 Axes>"
            ],
            "image/png": "[encoded data removed]"
          },
          "metadata": {}
        },
        {
          "output_type": "display_data",
          "data": {
            "text/plain": [
              "<Figure size 1000x600 with 1 Axes>"
            ],
            "image/png": "[encoded data removed]"
          },
          "metadata": {}
        }
      ]
    }
  ]
}